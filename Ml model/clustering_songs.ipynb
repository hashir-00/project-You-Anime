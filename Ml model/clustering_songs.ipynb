{
 "cells": [
  {
   "cell_type": "code",
   "execution_count": 1,
   "id": "20ba7f62",
   "metadata": {},
   "outputs": [],
   "source": [
    "#remove outlyers"
   ]
  },
  {
   "cell_type": "code",
   "execution_count": 2,
   "id": "a7450bc4",
   "metadata": {},
   "outputs": [],
   "source": [
    "import pandas as pd\n",
    "import matplotlib\n",
    "from matplotlib import pyplot as plt\n",
    "%matplotlib inline\n",
    "matplotlib.rcParams['figure.figsize'] = (10,6)"
   ]
  },
  {
   "cell_type": "code",
   "execution_count": 3,
   "id": "9159770c",
   "metadata": {},
   "outputs": [
    {
     "data": {
      "text/html": [
       "<div>\n",
       "<style scoped>\n",
       "    .dataframe tbody tr th:only-of-type {\n",
       "        vertical-align: middle;\n",
       "    }\n",
       "\n",
       "    .dataframe tbody tr th {\n",
       "        vertical-align: top;\n",
       "    }\n",
       "\n",
       "    .dataframe thead th {\n",
       "        text-align: right;\n",
       "    }\n",
       "</style>\n",
       "<table border=\"1\" class=\"dataframe\">\n",
       "  <thead>\n",
       "    <tr style=\"text-align: right;\">\n",
       "      <th></th>\n",
       "      <th>Unnamed: 0</th>\n",
       "      <th>danceability</th>\n",
       "      <th>energy</th>\n",
       "      <th>key</th>\n",
       "      <th>loudness</th>\n",
       "      <th>mode</th>\n",
       "      <th>speechiness</th>\n",
       "      <th>acousticness</th>\n",
       "      <th>instrumentalness</th>\n",
       "      <th>liveness</th>\n",
       "      <th>valence</th>\n",
       "      <th>tempo</th>\n",
       "      <th>type</th>\n",
       "      <th>id</th>\n",
       "      <th>uri</th>\n",
       "      <th>track_href</th>\n",
       "      <th>analysis_url</th>\n",
       "      <th>duration_ms</th>\n",
       "      <th>time_signature</th>\n",
       "      <th>name</th>\n",
       "    </tr>\n",
       "  </thead>\n",
       "  <tbody>\n",
       "    <tr>\n",
       "      <th>306</th>\n",
       "      <td>0</td>\n",
       "      <td>0.0918</td>\n",
       "      <td>0.26800</td>\n",
       "      <td>5</td>\n",
       "      <td>-12.501</td>\n",
       "      <td>0</td>\n",
       "      <td>0.0348</td>\n",
       "      <td>0.95500</td>\n",
       "      <td>0.823</td>\n",
       "      <td>0.2200</td>\n",
       "      <td>0.0397</td>\n",
       "      <td>87.074</td>\n",
       "      <td>audio_features</td>\n",
       "      <td>2BDGENnWVU3kAvXkEzMvcr</td>\n",
       "      <td>spotify:track:2BDGENnWVU3kAvXkEzMvcr</td>\n",
       "      <td>https://api.spotify.com/v1/tracks/2BDGENnWVU3k...</td>\n",
       "      <td>https://api.spotify.com/v1/audio-analysis/2BDG...</td>\n",
       "      <td>298613</td>\n",
       "      <td>4</td>\n",
       "      <td>tema principale: orchestra dedicata ai maestri</td>\n",
       "    </tr>\n",
       "    <tr>\n",
       "      <th>66</th>\n",
       "      <td>0</td>\n",
       "      <td>0.4120</td>\n",
       "      <td>0.88500</td>\n",
       "      <td>2</td>\n",
       "      <td>-3.812</td>\n",
       "      <td>1</td>\n",
       "      <td>0.0578</td>\n",
       "      <td>0.00157</td>\n",
       "      <td>0.000</td>\n",
       "      <td>0.1320</td>\n",
       "      <td>0.5690</td>\n",
       "      <td>90.027</td>\n",
       "      <td>audio_features</td>\n",
       "      <td>6sz0Rbp0MbQDIZDz6p5a3O</td>\n",
       "      <td>spotify:track:6sz0Rbp0MbQDIZDz6p5a3O</td>\n",
       "      <td>https://api.spotify.com/v1/tracks/6sz0Rbp0MbQD...</td>\n",
       "      <td>https://api.spotify.com/v1/audio-analysis/6sz0...</td>\n",
       "      <td>266227</td>\n",
       "      <td>4</td>\n",
       "      <td>うらがわの存在</td>\n",
       "    </tr>\n",
       "    <tr>\n",
       "      <th>398</th>\n",
       "      <td>0</td>\n",
       "      <td>0.2400</td>\n",
       "      <td>0.00772</td>\n",
       "      <td>10</td>\n",
       "      <td>-28.248</td>\n",
       "      <td>1</td>\n",
       "      <td>0.0452</td>\n",
       "      <td>0.97400</td>\n",
       "      <td>0.930</td>\n",
       "      <td>0.0756</td>\n",
       "      <td>0.0364</td>\n",
       "      <td>75.027</td>\n",
       "      <td>audio_features</td>\n",
       "      <td>73fSc5LqSBGYvMznxAsWdL</td>\n",
       "      <td>spotify:track:73fSc5LqSBGYvMznxAsWdL</td>\n",
       "      <td>https://api.spotify.com/v1/tracks/73fSc5LqSBGY...</td>\n",
       "      <td>https://api.spotify.com/v1/audio-analysis/73fS...</td>\n",
       "      <td>188272</td>\n",
       "      <td>4</td>\n",
       "      <td>Revelation</td>\n",
       "    </tr>\n",
       "    <tr>\n",
       "      <th>335</th>\n",
       "      <td>0</td>\n",
       "      <td>0.2240</td>\n",
       "      <td>0.00414</td>\n",
       "      <td>9</td>\n",
       "      <td>-28.348</td>\n",
       "      <td>1</td>\n",
       "      <td>0.0475</td>\n",
       "      <td>0.98800</td>\n",
       "      <td>0.915</td>\n",
       "      <td>0.0867</td>\n",
       "      <td>0.2470</td>\n",
       "      <td>134.858</td>\n",
       "      <td>audio_features</td>\n",
       "      <td>5L9bHB7esLqCQPETVQcP7W</td>\n",
       "      <td>spotify:track:5L9bHB7esLqCQPETVQcP7W</td>\n",
       "      <td>https://api.spotify.com/v1/tracks/5L9bHB7esLqC...</td>\n",
       "      <td>https://api.spotify.com/v1/audio-analysis/5L9b...</td>\n",
       "      <td>144520</td>\n",
       "      <td>3</td>\n",
       "      <td>The Promised Neverland (Epf solo Version)</td>\n",
       "    </tr>\n",
       "    <tr>\n",
       "      <th>135</th>\n",
       "      <td>0</td>\n",
       "      <td>0.6710</td>\n",
       "      <td>0.76000</td>\n",
       "      <td>8</td>\n",
       "      <td>-2.852</td>\n",
       "      <td>1</td>\n",
       "      <td>0.0570</td>\n",
       "      <td>0.06390</td>\n",
       "      <td>0.000</td>\n",
       "      <td>0.1240</td>\n",
       "      <td>0.7960</td>\n",
       "      <td>107.007</td>\n",
       "      <td>audio_features</td>\n",
       "      <td>1P1PgGMrzIVMju7TOqMGBy</td>\n",
       "      <td>spotify:track:1P1PgGMrzIVMju7TOqMGBy</td>\n",
       "      <td>https://api.spotify.com/v1/tracks/1P1PgGMrzIVM...</td>\n",
       "      <td>https://api.spotify.com/v1/audio-analysis/1P1P...</td>\n",
       "      <td>216672</td>\n",
       "      <td>4</td>\n",
       "      <td>ここで息をして</td>\n",
       "    </tr>\n",
       "  </tbody>\n",
       "</table>\n",
       "</div>"
      ],
      "text/plain": [
       "     Unnamed: 0  danceability   energy  key  loudness  mode  speechiness  \\\n",
       "306           0        0.0918  0.26800    5   -12.501     0       0.0348   \n",
       "66            0        0.4120  0.88500    2    -3.812     1       0.0578   \n",
       "398           0        0.2400  0.00772   10   -28.248     1       0.0452   \n",
       "335           0        0.2240  0.00414    9   -28.348     1       0.0475   \n",
       "135           0        0.6710  0.76000    8    -2.852     1       0.0570   \n",
       "\n",
       "     acousticness  instrumentalness  liveness  valence    tempo  \\\n",
       "306       0.95500             0.823    0.2200   0.0397   87.074   \n",
       "66        0.00157             0.000    0.1320   0.5690   90.027   \n",
       "398       0.97400             0.930    0.0756   0.0364   75.027   \n",
       "335       0.98800             0.915    0.0867   0.2470  134.858   \n",
       "135       0.06390             0.000    0.1240   0.7960  107.007   \n",
       "\n",
       "               type                      id  \\\n",
       "306  audio_features  2BDGENnWVU3kAvXkEzMvcr   \n",
       "66   audio_features  6sz0Rbp0MbQDIZDz6p5a3O   \n",
       "398  audio_features  73fSc5LqSBGYvMznxAsWdL   \n",
       "335  audio_features  5L9bHB7esLqCQPETVQcP7W   \n",
       "135  audio_features  1P1PgGMrzIVMju7TOqMGBy   \n",
       "\n",
       "                                      uri  \\\n",
       "306  spotify:track:2BDGENnWVU3kAvXkEzMvcr   \n",
       "66   spotify:track:6sz0Rbp0MbQDIZDz6p5a3O   \n",
       "398  spotify:track:73fSc5LqSBGYvMznxAsWdL   \n",
       "335  spotify:track:5L9bHB7esLqCQPETVQcP7W   \n",
       "135  spotify:track:1P1PgGMrzIVMju7TOqMGBy   \n",
       "\n",
       "                                            track_href  \\\n",
       "306  https://api.spotify.com/v1/tracks/2BDGENnWVU3k...   \n",
       "66   https://api.spotify.com/v1/tracks/6sz0Rbp0MbQD...   \n",
       "398  https://api.spotify.com/v1/tracks/73fSc5LqSBGY...   \n",
       "335  https://api.spotify.com/v1/tracks/5L9bHB7esLqC...   \n",
       "135  https://api.spotify.com/v1/tracks/1P1PgGMrzIVM...   \n",
       "\n",
       "                                          analysis_url  duration_ms  \\\n",
       "306  https://api.spotify.com/v1/audio-analysis/2BDG...       298613   \n",
       "66   https://api.spotify.com/v1/audio-analysis/6sz0...       266227   \n",
       "398  https://api.spotify.com/v1/audio-analysis/73fS...       188272   \n",
       "335  https://api.spotify.com/v1/audio-analysis/5L9b...       144520   \n",
       "135  https://api.spotify.com/v1/audio-analysis/1P1P...       216672   \n",
       "\n",
       "     time_signature                                            name  \n",
       "306               4  tema principale: orchestra dedicata ai maestri  \n",
       "66                4                                         うらがわの存在  \n",
       "398               4                                      Revelation  \n",
       "335               3       The Promised Neverland (Epf solo Version)  \n",
       "135               4                                         ここで息をして  "
      ]
     },
     "execution_count": 3,
     "metadata": {},
     "output_type": "execute_result"
    }
   ],
   "source": [
    "df = pd.read_csv(\"anime_songs.csv\")\n",
    "df.sample(5)"
   ]
  },
  {
   "cell_type": "code",
   "execution_count": 4,
   "id": "c0d17ef7",
   "metadata": {},
   "outputs": [
    {
     "data": {
      "image/png": "[encoded data removed]",
      "text/plain": [
       "<Figure size 1000x600 with 1 Axes>"
      ]
     },
     "metadata": {},
     "output_type": "display_data"
    }
   ],
   "source": [
    "plt.hist(df.danceability, bins=20, rwidth=0.8)\n",
    "plt.xlabel('danceability')\n",
    "plt.ylabel('Count')\n",
    "plt.show()"
   ]
  },
  {
   "cell_type": "code",
   "execution_count": 5,
   "id": "91eedba3",
   "metadata": {},
   "outputs": [
    {
     "data": {
      "text/plain": [
       "[<matplotlib.lines.Line2D at 0x147a23190>]"
      ]
     },
     "execution_count": 5,
     "metadata": {},
     "output_type": "execute_result"
    },
    {
     "data": {
      "image/png": "[encoded data removed]",
      "text/plain": [
       "<Figure size 1000x600 with 1 Axes>"
      ]
     },
     "metadata": {},
     "output_type": "display_data"
    }
   ],
   "source": [
    "from scipy.stats import norm\n",
    "import numpy as np\n",
    "plt.hist(df.tempo, bins=20, rwidth=0.8, density=True)\n",
    "plt.xlabel('danceability')\n",
    "plt.ylabel('Count')\n",
    "\n",
    "rng = np.arange(df.tempo.min(), df.tempo.max(), 0.1)\n",
    "plt.plot(rng, norm.pdf(rng,df.tempo.mean(),df.tempo.std()))"
   ]
  },
  {
   "cell_type": "code",
   "execution_count": null,
   "id": "f526ac10",
   "metadata": {},
   "outputs": [],
   "source": []
  },
  {
   "cell_type": "code",
   "execution_count": 6,
   "id": "0b82039c",
   "metadata": {},
   "outputs": [
    {
     "data": {
      "text/plain": [
       "0.4597687214611872"
      ]
     },
     "execution_count": 6,
     "metadata": {},
     "output_type": "execute_result"
    }
   ],
   "source": [
    "df.danceability.mean()"
   ]
  },
  {
   "cell_type": "code",
   "execution_count": 7,
   "id": "7d9e9156",
   "metadata": {},
   "outputs": [
    {
     "data": {
      "text/plain": [
       "0.1607048364012583"
      ]
     },
     "execution_count": 7,
     "metadata": {},
     "output_type": "execute_result"
    }
   ],
   "source": [
    "df.danceability.std()"
   ]
  },
  {
   "cell_type": "code",
   "execution_count": 8,
   "id": "9001586a",
   "metadata": {},
   "outputs": [
    {
     "data": {
      "text/plain": [
       "0.941883230664962"
      ]
     },
     "execution_count": 8,
     "metadata": {},
     "output_type": "execute_result"
    }
   ],
   "source": [
    "upper_limit = df.danceability.mean() + 3*df.danceability.std()\n",
    "upper_limit"
   ]
  },
  {
   "cell_type": "code",
   "execution_count": 9,
   "id": "b49ab025",
   "metadata": {},
   "outputs": [
    {
     "data": {
      "text/plain": [
       "-0.022345787742587664"
      ]
     },
     "execution_count": 9,
     "metadata": {},
     "output_type": "execute_result"
    }
   ],
   "source": [
    "lower_limit = df.danceability.mean() -3*df.danceability.std()\n",
    "lower_limit"
   ]
  },
  {
   "cell_type": "code",
   "execution_count": 10,
   "id": "ec791726",
   "metadata": {},
   "outputs": [
    {
     "data": {
      "text/html": [
       "<div>\n",
       "<style scoped>\n",
       "    .dataframe tbody tr th:only-of-type {\n",
       "        vertical-align: middle;\n",
       "    }\n",
       "\n",
       "    .dataframe tbody tr th {\n",
       "        vertical-align: top;\n",
       "    }\n",
       "\n",
       "    .dataframe thead th {\n",
       "        text-align: right;\n",
       "    }\n",
       "</style>\n",
       "<table border=\"1\" class=\"dataframe\">\n",
       "  <thead>\n",
       "    <tr style=\"text-align: right;\">\n",
       "      <th></th>\n",
       "      <th>Unnamed: 0</th>\n",
       "      <th>danceability</th>\n",
       "      <th>energy</th>\n",
       "      <th>key</th>\n",
       "      <th>loudness</th>\n",
       "      <th>mode</th>\n",
       "      <th>speechiness</th>\n",
       "      <th>acousticness</th>\n",
       "      <th>instrumentalness</th>\n",
       "      <th>liveness</th>\n",
       "      <th>valence</th>\n",
       "      <th>tempo</th>\n",
       "      <th>type</th>\n",
       "      <th>id</th>\n",
       "      <th>uri</th>\n",
       "      <th>track_href</th>\n",
       "      <th>analysis_url</th>\n",
       "      <th>duration_ms</th>\n",
       "      <th>time_signature</th>\n",
       "      <th>name</th>\n",
       "    </tr>\n",
       "  </thead>\n",
       "  <tbody>\n",
       "  </tbody>\n",
       "</table>\n",
       "</div>"
      ],
      "text/plain": [
       "Empty DataFrame\n",
       "Columns: [Unnamed: 0, danceability, energy, key, loudness, mode, speechiness, acousticness, instrumentalness, liveness, valence, tempo, type, id, uri, track_href, analysis_url, duration_ms, time_signature, name]\n",
       "Index: []"
      ]
     },
     "execution_count": 10,
     "metadata": {},
     "output_type": "execute_result"
    }
   ],
   "source": [
    "df[(df.danceability>upper_limit) | (df.danceability<lower_limit)]"
   ]
  },
  {
   "cell_type": "code",
   "execution_count": 11,
   "id": "aa1a4df9",
   "metadata": {},
   "outputs": [
    {
     "data": {
      "text/html": [
       "<div>\n",
       "<style scoped>\n",
       "    .dataframe tbody tr th:only-of-type {\n",
       "        vertical-align: middle;\n",
       "    }\n",
       "\n",
       "    .dataframe tbody tr th {\n",
       "        vertical-align: top;\n",
       "    }\n",
       "\n",
       "    .dataframe thead th {\n",
       "        text-align: right;\n",
       "    }\n",
       "</style>\n",
       "<table border=\"1\" class=\"dataframe\">\n",
       "  <thead>\n",
       "    <tr style=\"text-align: right;\">\n",
       "      <th></th>\n",
       "      <th>Unnamed: 0</th>\n",
       "      <th>danceability</th>\n",
       "      <th>energy</th>\n",
       "      <th>key</th>\n",
       "      <th>loudness</th>\n",
       "      <th>mode</th>\n",
       "      <th>speechiness</th>\n",
       "      <th>acousticness</th>\n",
       "      <th>instrumentalness</th>\n",
       "      <th>liveness</th>\n",
       "      <th>valence</th>\n",
       "      <th>tempo</th>\n",
       "      <th>type</th>\n",
       "      <th>id</th>\n",
       "      <th>uri</th>\n",
       "      <th>track_href</th>\n",
       "      <th>analysis_url</th>\n",
       "      <th>duration_ms</th>\n",
       "      <th>time_signature</th>\n",
       "      <th>name</th>\n",
       "    </tr>\n",
       "  </thead>\n",
       "  <tbody>\n",
       "    <tr>\n",
       "      <th>0</th>\n",
       "      <td>0</td>\n",
       "      <td>0.627</td>\n",
       "      <td>0.824</td>\n",
       "      <td>1</td>\n",
       "      <td>-3.419</td>\n",
       "      <td>1</td>\n",
       "      <td>0.1180</td>\n",
       "      <td>0.06990</td>\n",
       "      <td>0.000066</td>\n",
       "      <td>0.3100</td>\n",
       "      <td>0.774</td>\n",
       "      <td>169.935</td>\n",
       "      <td>audio_features</td>\n",
       "      <td>06XQvnJb53SUYmlWIhUXUi</td>\n",
       "      <td>spotify:track:06XQvnJb53SUYmlWIhUXUi</td>\n",
       "      <td>https://api.spotify.com/v1/tracks/06XQvnJb53SU...</td>\n",
       "      <td>https://api.spotify.com/v1/audio-analysis/06XQ...</td>\n",
       "      <td>206000</td>\n",
       "      <td>4</td>\n",
       "      <td>怪物</td>\n",
       "    </tr>\n",
       "    <tr>\n",
       "      <th>1</th>\n",
       "      <td>0</td>\n",
       "      <td>0.585</td>\n",
       "      <td>0.910</td>\n",
       "      <td>5</td>\n",
       "      <td>-3.703</td>\n",
       "      <td>0</td>\n",
       "      <td>0.0917</td>\n",
       "      <td>0.01380</td>\n",
       "      <td>0.000000</td>\n",
       "      <td>0.1900</td>\n",
       "      <td>0.602</td>\n",
       "      <td>92.591</td>\n",
       "      <td>audio_features</td>\n",
       "      <td>5MVjxslIF7mVtYo75Nk445</td>\n",
       "      <td>spotify:track:5MVjxslIF7mVtYo75Nk445</td>\n",
       "      <td>https://api.spotify.com/v1/tracks/5MVjxslIF7mV...</td>\n",
       "      <td>https://api.spotify.com/v1/audio-analysis/5MVj...</td>\n",
       "      <td>221426</td>\n",
       "      <td>4</td>\n",
       "      <td>廻廻奇譚</td>\n",
       "    </tr>\n",
       "    <tr>\n",
       "      <th>2</th>\n",
       "      <td>0</td>\n",
       "      <td>0.561</td>\n",
       "      <td>0.667</td>\n",
       "      <td>8</td>\n",
       "      <td>-8.519</td>\n",
       "      <td>0</td>\n",
       "      <td>0.0652</td>\n",
       "      <td>0.05390</td>\n",
       "      <td>0.000000</td>\n",
       "      <td>0.0797</td>\n",
       "      <td>0.383</td>\n",
       "      <td>100.047</td>\n",
       "      <td>audio_features</td>\n",
       "      <td>3CYfCp9XAHc69wtCKTwMaj</td>\n",
       "      <td>spotify:track:3CYfCp9XAHc69wtCKTwMaj</td>\n",
       "      <td>https://api.spotify.com/v1/tracks/3CYfCp9XAHc6...</td>\n",
       "      <td>https://api.spotify.com/v1/audio-analysis/3CYf...</td>\n",
       "      <td>217807</td>\n",
       "      <td>4</td>\n",
       "      <td>0 (zero)</td>\n",
       "    </tr>\n",
       "    <tr>\n",
       "      <th>3</th>\n",
       "      <td>0</td>\n",
       "      <td>0.544</td>\n",
       "      <td>0.979</td>\n",
       "      <td>4</td>\n",
       "      <td>-2.800</td>\n",
       "      <td>0</td>\n",
       "      <td>0.1530</td>\n",
       "      <td>0.00336</td>\n",
       "      <td>0.000116</td>\n",
       "      <td>0.0775</td>\n",
       "      <td>0.310</td>\n",
       "      <td>135.001</td>\n",
       "      <td>audio_features</td>\n",
       "      <td>1hFsEbHxsfflhLEPCq5tzk</td>\n",
       "      <td>spotify:track:1hFsEbHxsfflhLEPCq5tzk</td>\n",
       "      <td>https://api.spotify.com/v1/tracks/1hFsEbHxsffl...</td>\n",
       "      <td>https://api.spotify.com/v1/audio-analysis/1hFs...</td>\n",
       "      <td>238587</td>\n",
       "      <td>4</td>\n",
       "      <td>紅蓮華</td>\n",
       "    </tr>\n",
       "    <tr>\n",
       "      <th>4</th>\n",
       "      <td>0</td>\n",
       "      <td>0.305</td>\n",
       "      <td>0.252</td>\n",
       "      <td>4</td>\n",
       "      <td>-13.541</td>\n",
       "      <td>0</td>\n",
       "      <td>0.0419</td>\n",
       "      <td>0.39500</td>\n",
       "      <td>0.012700</td>\n",
       "      <td>0.1710</td>\n",
       "      <td>0.127</td>\n",
       "      <td>128.015</td>\n",
       "      <td>audio_features</td>\n",
       "      <td>5dy1QO156l2ct1MVPzc8px</td>\n",
       "      <td>spotify:track:5dy1QO156l2ct1MVPzc8px</td>\n",
       "      <td>https://api.spotify.com/v1/tracks/5dy1QO156l2c...</td>\n",
       "      <td>https://api.spotify.com/v1/audio-analysis/5dy1...</td>\n",
       "      <td>238412</td>\n",
       "      <td>4</td>\n",
       "      <td>歌よ</td>\n",
       "    </tr>\n",
       "  </tbody>\n",
       "</table>\n",
       "</div>"
      ],
      "text/plain": [
       "   Unnamed: 0  danceability  energy  key  loudness  mode  speechiness  \\\n",
       "0           0         0.627   0.824    1    -3.419     1       0.1180   \n",
       "1           0         0.585   0.910    5    -3.703     0       0.0917   \n",
       "2           0         0.561   0.667    8    -8.519     0       0.0652   \n",
       "3           0         0.544   0.979    4    -2.800     0       0.1530   \n",
       "4           0         0.305   0.252    4   -13.541     0       0.0419   \n",
       "\n",
       "   acousticness  instrumentalness  liveness  valence    tempo            type  \\\n",
       "0       0.06990          0.000066    0.3100    0.774  169.935  audio_features   \n",
       "1       0.01380          0.000000    0.1900    0.602   92.591  audio_features   \n",
       "2       0.05390          0.000000    0.0797    0.383  100.047  audio_features   \n",
       "3       0.00336          0.000116    0.0775    0.310  135.001  audio_features   \n",
       "4       0.39500          0.012700    0.1710    0.127  128.015  audio_features   \n",
       "\n",
       "                       id                                   uri  \\\n",
       "0  06XQvnJb53SUYmlWIhUXUi  spotify:track:06XQvnJb53SUYmlWIhUXUi   \n",
       "1  5MVjxslIF7mVtYo75Nk445  spotify:track:5MVjxslIF7mVtYo75Nk445   \n",
       "2  3CYfCp9XAHc69wtCKTwMaj  spotify:track:3CYfCp9XAHc69wtCKTwMaj   \n",
       "3  1hFsEbHxsfflhLEPCq5tzk  spotify:track:1hFsEbHxsfflhLEPCq5tzk   \n",
       "4  5dy1QO156l2ct1MVPzc8px  spotify:track:5dy1QO156l2ct1MVPzc8px   \n",
       "\n",
       "                                          track_href  \\\n",
       "0  https://api.spotify.com/v1/tracks/06XQvnJb53SU...   \n",
       "1  https://api.spotify.com/v1/tracks/5MVjxslIF7mV...   \n",
       "2  https://api.spotify.com/v1/tracks/3CYfCp9XAHc6...   \n",
       "3  https://api.spotify.com/v1/tracks/1hFsEbHxsffl...   \n",
       "4  https://api.spotify.com/v1/tracks/5dy1QO156l2c...   \n",
       "\n",
       "                                        analysis_url  duration_ms  \\\n",
       "0  https://api.spotify.com/v1/audio-analysis/06XQ...       206000   \n",
       "1  https://api.spotify.com/v1/audio-analysis/5MVj...       221426   \n",
       "2  https://api.spotify.com/v1/audio-analysis/3CYf...       217807   \n",
       "3  https://api.spotify.com/v1/audio-analysis/1hFs...       238587   \n",
       "4  https://api.spotify.com/v1/audio-analysis/5dy1...       238412   \n",
       "\n",
       "   time_signature      name  \n",
       "0               4        怪物  \n",
       "1               4      廻廻奇譚  \n",
       "2               4  0 (zero)  \n",
       "3               4       紅蓮華  \n",
       "4               4        歌よ  "
      ]
     },
     "execution_count": 11,
     "metadata": {},
     "output_type": "execute_result"
    }
   ],
   "source": [
    "df_no_outlier_std_dev = df[(df.danceability<upper_limit) & (df.danceability>lower_limit)]\n",
    "df_no_outlier_std_dev.head()"
   ]
  },
  {
   "cell_type": "code",
   "execution_count": 12,
   "id": "fbb01404",
   "metadata": {},
   "outputs": [
    {
     "data": {
      "text/plain": [
       "(438, 20)"
      ]
     },
     "execution_count": 12,
     "metadata": {},
     "output_type": "execute_result"
    }
   ],
   "source": [
    "df_no_outlier_std_dev.shape"
   ]
  },
  {
   "cell_type": "code",
   "execution_count": 13,
   "id": "736d640b",
   "metadata": {},
   "outputs": [
    {
     "data": {
      "text/plain": [
       "(438, 20)"
      ]
     },
     "execution_count": 13,
     "metadata": {},
     "output_type": "execute_result"
    }
   ],
   "source": [
    "df.shape"
   ]
  },
  {
   "cell_type": "code",
   "execution_count": null,
   "id": "71256c6d",
   "metadata": {},
   "outputs": [],
   "source": []
  },
  {
   "cell_type": "code",
   "execution_count": null,
   "id": "06c536a8",
   "metadata": {},
   "outputs": [],
   "source": []
  },
  {
   "cell_type": "code",
   "execution_count": 14,
   "id": "01124ef1",
   "metadata": {},
   "outputs": [],
   "source": [
    "#reading and uploading files\n",
    "import pandas as pd\n",
    "songs=pd.read_csv(\"anime_songs.csv\")"
   ]
  },
  {
   "cell_type": "code",
   "execution_count": 15,
   "id": "a500e852",
   "metadata": {},
   "outputs": [
    {
     "data": {
      "text/plain": [
       "(438, 20)"
      ]
     },
     "execution_count": 15,
     "metadata": {},
     "output_type": "execute_result"
    }
   ],
   "source": [
    "df.shape"
   ]
  },
  {
   "cell_type": "code",
   "execution_count": 16,
   "id": "81f4b750",
   "metadata": {},
   "outputs": [
    {
     "data": {
      "text/html": [
       "<div>\n",
       "<style scoped>\n",
       "    .dataframe tbody tr th:only-of-type {\n",
       "        vertical-align: middle;\n",
       "    }\n",
       "\n",
       "    .dataframe tbody tr th {\n",
       "        vertical-align: top;\n",
       "    }\n",
       "\n",
       "    .dataframe thead th {\n",
       "        text-align: right;\n",
       "    }\n",
       "</style>\n",
       "<table border=\"1\" class=\"dataframe\">\n",
       "  <thead>\n",
       "    <tr style=\"text-align: right;\">\n",
       "      <th></th>\n",
       "      <th>Unnamed: 0</th>\n",
       "      <th>danceability</th>\n",
       "      <th>energy</th>\n",
       "      <th>key</th>\n",
       "      <th>loudness</th>\n",
       "      <th>mode</th>\n",
       "      <th>speechiness</th>\n",
       "      <th>acousticness</th>\n",
       "      <th>instrumentalness</th>\n",
       "      <th>liveness</th>\n",
       "      <th>valence</th>\n",
       "      <th>tempo</th>\n",
       "      <th>type</th>\n",
       "      <th>id</th>\n",
       "      <th>uri</th>\n",
       "      <th>track_href</th>\n",
       "      <th>analysis_url</th>\n",
       "      <th>duration_ms</th>\n",
       "      <th>time_signature</th>\n",
       "      <th>name</th>\n",
       "    </tr>\n",
       "  </thead>\n",
       "  <tbody>\n",
       "    <tr>\n",
       "      <th>0</th>\n",
       "      <td>0</td>\n",
       "      <td>0.627</td>\n",
       "      <td>0.824</td>\n",
       "      <td>1</td>\n",
       "      <td>-3.419</td>\n",
       "      <td>1</td>\n",
       "      <td>0.1180</td>\n",
       "      <td>0.06990</td>\n",
       "      <td>0.000066</td>\n",
       "      <td>0.3100</td>\n",
       "      <td>0.774</td>\n",
       "      <td>169.935</td>\n",
       "      <td>audio_features</td>\n",
       "      <td>06XQvnJb53SUYmlWIhUXUi</td>\n",
       "      <td>spotify:track:06XQvnJb53SUYmlWIhUXUi</td>\n",
       "      <td>https://api.spotify.com/v1/tracks/06XQvnJb53SU...</td>\n",
       "      <td>https://api.spotify.com/v1/audio-analysis/06XQ...</td>\n",
       "      <td>206000</td>\n",
       "      <td>4</td>\n",
       "      <td>怪物</td>\n",
       "    </tr>\n",
       "    <tr>\n",
       "      <th>1</th>\n",
       "      <td>0</td>\n",
       "      <td>0.585</td>\n",
       "      <td>0.910</td>\n",
       "      <td>5</td>\n",
       "      <td>-3.703</td>\n",
       "      <td>0</td>\n",
       "      <td>0.0917</td>\n",
       "      <td>0.01380</td>\n",
       "      <td>0.000000</td>\n",
       "      <td>0.1900</td>\n",
       "      <td>0.602</td>\n",
       "      <td>92.591</td>\n",
       "      <td>audio_features</td>\n",
       "      <td>5MVjxslIF7mVtYo75Nk445</td>\n",
       "      <td>spotify:track:5MVjxslIF7mVtYo75Nk445</td>\n",
       "      <td>https://api.spotify.com/v1/tracks/5MVjxslIF7mV...</td>\n",
       "      <td>https://api.spotify.com/v1/audio-analysis/5MVj...</td>\n",
       "      <td>221426</td>\n",
       "      <td>4</td>\n",
       "      <td>廻廻奇譚</td>\n",
       "    </tr>\n",
       "    <tr>\n",
       "      <th>2</th>\n",
       "      <td>0</td>\n",
       "      <td>0.561</td>\n",
       "      <td>0.667</td>\n",
       "      <td>8</td>\n",
       "      <td>-8.519</td>\n",
       "      <td>0</td>\n",
       "      <td>0.0652</td>\n",
       "      <td>0.05390</td>\n",
       "      <td>0.000000</td>\n",
       "      <td>0.0797</td>\n",
       "      <td>0.383</td>\n",
       "      <td>100.047</td>\n",
       "      <td>audio_features</td>\n",
       "      <td>3CYfCp9XAHc69wtCKTwMaj</td>\n",
       "      <td>spotify:track:3CYfCp9XAHc69wtCKTwMaj</td>\n",
       "      <td>https://api.spotify.com/v1/tracks/3CYfCp9XAHc6...</td>\n",
       "      <td>https://api.spotify.com/v1/audio-analysis/3CYf...</td>\n",
       "      <td>217807</td>\n",
       "      <td>4</td>\n",
       "      <td>0 (zero)</td>\n",
       "    </tr>\n",
       "    <tr>\n",
       "      <th>3</th>\n",
       "      <td>0</td>\n",
       "      <td>0.544</td>\n",
       "      <td>0.979</td>\n",
       "      <td>4</td>\n",
       "      <td>-2.800</td>\n",
       "      <td>0</td>\n",
       "      <td>0.1530</td>\n",
       "      <td>0.00336</td>\n",
       "      <td>0.000116</td>\n",
       "      <td>0.0775</td>\n",
       "      <td>0.310</td>\n",
       "      <td>135.001</td>\n",
       "      <td>audio_features</td>\n",
       "      <td>1hFsEbHxsfflhLEPCq5tzk</td>\n",
       "      <td>spotify:track:1hFsEbHxsfflhLEPCq5tzk</td>\n",
       "      <td>https://api.spotify.com/v1/tracks/1hFsEbHxsffl...</td>\n",
       "      <td>https://api.spotify.com/v1/audio-analysis/1hFs...</td>\n",
       "      <td>238587</td>\n",
       "      <td>4</td>\n",
       "      <td>紅蓮華</td>\n",
       "    </tr>\n",
       "    <tr>\n",
       "      <th>4</th>\n",
       "      <td>0</td>\n",
       "      <td>0.305</td>\n",
       "      <td>0.252</td>\n",
       "      <td>4</td>\n",
       "      <td>-13.541</td>\n",
       "      <td>0</td>\n",
       "      <td>0.0419</td>\n",
       "      <td>0.39500</td>\n",
       "      <td>0.012700</td>\n",
       "      <td>0.1710</td>\n",
       "      <td>0.127</td>\n",
       "      <td>128.015</td>\n",
       "      <td>audio_features</td>\n",
       "      <td>5dy1QO156l2ct1MVPzc8px</td>\n",
       "      <td>spotify:track:5dy1QO156l2ct1MVPzc8px</td>\n",
       "      <td>https://api.spotify.com/v1/tracks/5dy1QO156l2c...</td>\n",
       "      <td>https://api.spotify.com/v1/audio-analysis/5dy1...</td>\n",
       "      <td>238412</td>\n",
       "      <td>4</td>\n",
       "      <td>歌よ</td>\n",
       "    </tr>\n",
       "  </tbody>\n",
       "</table>\n",
       "</div>"
      ],
      "text/plain": [
       "   Unnamed: 0  danceability  energy  key  loudness  mode  speechiness  \\\n",
       "0           0         0.627   0.824    1    -3.419     1       0.1180   \n",
       "1           0         0.585   0.910    5    -3.703     0       0.0917   \n",
       "2           0         0.561   0.667    8    -8.519     0       0.0652   \n",
       "3           0         0.544   0.979    4    -2.800     0       0.1530   \n",
       "4           0         0.305   0.252    4   -13.541     0       0.0419   \n",
       "\n",
       "   acousticness  instrumentalness  liveness  valence    tempo            type  \\\n",
       "0       0.06990          0.000066    0.3100    0.774  169.935  audio_features   \n",
       "1       0.01380          0.000000    0.1900    0.602   92.591  audio_features   \n",
       "2       0.05390          0.000000    0.0797    0.383  100.047  audio_features   \n",
       "3       0.00336          0.000116    0.0775    0.310  135.001  audio_features   \n",
       "4       0.39500          0.012700    0.1710    0.127  128.015  audio_features   \n",
       "\n",
       "                       id                                   uri  \\\n",
       "0  06XQvnJb53SUYmlWIhUXUi  spotify:track:06XQvnJb53SUYmlWIhUXUi   \n",
       "1  5MVjxslIF7mVtYo75Nk445  spotify:track:5MVjxslIF7mVtYo75Nk445   \n",
       "2  3CYfCp9XAHc69wtCKTwMaj  spotify:track:3CYfCp9XAHc69wtCKTwMaj   \n",
       "3  1hFsEbHxsfflhLEPCq5tzk  spotify:track:1hFsEbHxsfflhLEPCq5tzk   \n",
       "4  5dy1QO156l2ct1MVPzc8px  spotify:track:5dy1QO156l2ct1MVPzc8px   \n",
       "\n",
       "                                          track_href  \\\n",
       "0  https://api.spotify.com/v1/tracks/06XQvnJb53SU...   \n",
       "1  https://api.spotify.com/v1/tracks/5MVjxslIF7mV...   \n",
       "2  https://api.spotify.com/v1/tracks/3CYfCp9XAHc6...   \n",
       "3  https://api.spotify.com/v1/tracks/1hFsEbHxsffl...   \n",
       "4  https://api.spotify.com/v1/tracks/5dy1QO156l2c...   \n",
       "\n",
       "                                        analysis_url  duration_ms  \\\n",
       "0  https://api.spotify.com/v1/audio-analysis/06XQ...       206000   \n",
       "1  https://api.spotify.com/v1/audio-analysis/5MVj...       221426   \n",
       "2  https://api.spotify.com/v1/audio-analysis/3CYf...       217807   \n",
       "3  https://api.spotify.com/v1/audio-analysis/1hFs...       238587   \n",
       "4  https://api.spotify.com/v1/audio-analysis/5dy1...       238412   \n",
       "\n",
       "   time_signature      name  \n",
       "0               4        怪物  \n",
       "1               4      廻廻奇譚  \n",
       "2               4  0 (zero)  \n",
       "3               4       紅蓮華  \n",
       "4               4        歌よ  "
      ]
     },
     "execution_count": 16,
     "metadata": {},
     "output_type": "execute_result"
    }
   ],
   "source": [
    "songs.head()"
   ]
  },
  {
   "cell_type": "code",
   "execution_count": 17,
   "id": "c43144bc",
   "metadata": {},
   "outputs": [
    {
     "name": "stdout",
     "output_type": "stream",
     "text": [
      "<class 'pandas.core.frame.DataFrame'>\n",
      "RangeIndex: 438 entries, 0 to 437\n",
      "Data columns (total 20 columns):\n",
      " #   Column            Non-Null Count  Dtype  \n",
      "---  ------            --------------  -----  \n",
      " 0   Unnamed: 0        438 non-null    int64  \n",
      " 1   danceability      438 non-null    float64\n",
      " 2   energy            438 non-null    float64\n",
      " 3   key               438 non-null    int64  \n",
      " 4   loudness          438 non-null    float64\n",
      " 5   mode              438 non-null    int64  \n",
      " 6   speechiness       438 non-null    float64\n",
      " 7   acousticness      438 non-null    float64\n",
      " 8   instrumentalness  438 non-null    float64\n",
      " 9   liveness          438 non-null    float64\n",
      " 10  valence           438 non-null    float64\n",
      " 11  tempo             438 non-null    float64\n",
      " 12  type              438 non-null    object \n",
      " 13  id                438 non-null    object \n",
      " 14  uri               438 non-null    object \n",
      " 15  track_href        438 non-null    object \n",
      " 16  analysis_url      438 non-null    object \n",
      " 17  duration_ms       438 non-null    int64  \n",
      " 18  time_signature    438 non-null    int64  \n",
      " 19  name              438 non-null    object \n",
      "dtypes: float64(9), int64(5), object(6)\n",
      "memory usage: 68.6+ KB\n"
     ]
    }
   ],
   "source": [
    "songs.info()"
   ]
  },
  {
   "cell_type": "code",
   "execution_count": 18,
   "id": "fd1828b7",
   "metadata": {},
   "outputs": [
    {
     "name": "stdout",
     "output_type": "stream",
     "text": [
      "   Unnamed: 0  danceability  energy  key  loudness  mode  speechiness  \\\n",
      "0           0         0.627   0.824    1    -3.419     1       0.1180   \n",
      "1           0         0.585   0.910    5    -3.703     0       0.0917   \n",
      "2           0         0.561   0.667    8    -8.519     0       0.0652   \n",
      "3           0         0.544   0.979    4    -2.800     0       0.1530   \n",
      "4           0         0.305   0.252    4   -13.541     0       0.0419   \n",
      "\n",
      "   acousticness  instrumentalness  liveness  valence    tempo  \\\n",
      "0       0.06990          0.000066    0.3100    0.774  169.935   \n",
      "1       0.01380          0.000000    0.1900    0.602   92.591   \n",
      "2       0.05390          0.000000    0.0797    0.383  100.047   \n",
      "3       0.00336          0.000116    0.0775    0.310  135.001   \n",
      "4       0.39500          0.012700    0.1710    0.127  128.015   \n",
      "\n",
      "                                          track_href      name  \n",
      "0  https://api.spotify.com/v1/tracks/06XQvnJb53SU...        怪物  \n",
      "1  https://api.spotify.com/v1/tracks/5MVjxslIF7mV...      廻廻奇譚  \n",
      "2  https://api.spotify.com/v1/tracks/3CYfCp9XAHc6...  0 (zero)  \n",
      "3  https://api.spotify.com/v1/tracks/1hFsEbHxsffl...       紅蓮華  \n",
      "4  https://api.spotify.com/v1/tracks/5dy1QO156l2c...        歌よ  \n"
     ]
    }
   ],
   "source": [
    "# Assuming 'songs' is your DataFrame containing the song features\n",
    "# List of columns to be dropped\n",
    "columns_to_drop = ['type', 'id', 'uri', 'duration_ms', 'time_signature','analysis_url']\n",
    "\n",
    "# Drop the columns\n",
    "songs = songs.drop(columns=columns_to_drop)\n",
    "\n",
    "# Display the modified DataFrame\n",
    "print(songs.head())\n"
   ]
  },
  {
   "cell_type": "code",
   "execution_count": 19,
   "id": "5aea3663",
   "metadata": {},
   "outputs": [
    {
     "data": {
      "text/html": [
       "<div>\n",
       "<style scoped>\n",
       "    .dataframe tbody tr th:only-of-type {\n",
       "        vertical-align: middle;\n",
       "    }\n",
       "\n",
       "    .dataframe tbody tr th {\n",
       "        vertical-align: top;\n",
       "    }\n",
       "\n",
       "    .dataframe thead th {\n",
       "        text-align: right;\n",
       "    }\n",
       "</style>\n",
       "<table border=\"1\" class=\"dataframe\">\n",
       "  <thead>\n",
       "    <tr style=\"text-align: right;\">\n",
       "      <th></th>\n",
       "      <th>Unnamed: 0</th>\n",
       "      <th>danceability</th>\n",
       "      <th>energy</th>\n",
       "      <th>key</th>\n",
       "      <th>loudness</th>\n",
       "      <th>mode</th>\n",
       "      <th>speechiness</th>\n",
       "      <th>acousticness</th>\n",
       "      <th>instrumentalness</th>\n",
       "      <th>liveness</th>\n",
       "      <th>valence</th>\n",
       "      <th>tempo</th>\n",
       "      <th>track_href</th>\n",
       "      <th>name</th>\n",
       "    </tr>\n",
       "  </thead>\n",
       "  <tbody>\n",
       "    <tr>\n",
       "      <th>count</th>\n",
       "      <td>438.0</td>\n",
       "      <td>438.00</td>\n",
       "      <td>438.00</td>\n",
       "      <td>438.00</td>\n",
       "      <td>438.00</td>\n",
       "      <td>438.00</td>\n",
       "      <td>438.00</td>\n",
       "      <td>438.00</td>\n",
       "      <td>438.00</td>\n",
       "      <td>438.00</td>\n",
       "      <td>438.00</td>\n",
       "      <td>438.00</td>\n",
       "      <td>438</td>\n",
       "      <td>438</td>\n",
       "    </tr>\n",
       "    <tr>\n",
       "      <th>unique</th>\n",
       "      <td>NaN</td>\n",
       "      <td>NaN</td>\n",
       "      <td>NaN</td>\n",
       "      <td>NaN</td>\n",
       "      <td>NaN</td>\n",
       "      <td>NaN</td>\n",
       "      <td>NaN</td>\n",
       "      <td>NaN</td>\n",
       "      <td>NaN</td>\n",
       "      <td>NaN</td>\n",
       "      <td>NaN</td>\n",
       "      <td>NaN</td>\n",
       "      <td>438</td>\n",
       "      <td>420</td>\n",
       "    </tr>\n",
       "    <tr>\n",
       "      <th>top</th>\n",
       "      <td>NaN</td>\n",
       "      <td>NaN</td>\n",
       "      <td>NaN</td>\n",
       "      <td>NaN</td>\n",
       "      <td>NaN</td>\n",
       "      <td>NaN</td>\n",
       "      <td>NaN</td>\n",
       "      <td>NaN</td>\n",
       "      <td>NaN</td>\n",
       "      <td>NaN</td>\n",
       "      <td>NaN</td>\n",
       "      <td>NaN</td>\n",
       "      <td>https://api.spotify.com/v1/tracks/06XQvnJb53SU...</td>\n",
       "      <td>紅蓮華</td>\n",
       "    </tr>\n",
       "    <tr>\n",
       "      <th>freq</th>\n",
       "      <td>NaN</td>\n",
       "      <td>NaN</td>\n",
       "      <td>NaN</td>\n",
       "      <td>NaN</td>\n",
       "      <td>NaN</td>\n",
       "      <td>NaN</td>\n",
       "      <td>NaN</td>\n",
       "      <td>NaN</td>\n",
       "      <td>NaN</td>\n",
       "      <td>NaN</td>\n",
       "      <td>NaN</td>\n",
       "      <td>NaN</td>\n",
       "      <td>1</td>\n",
       "      <td>3</td>\n",
       "    </tr>\n",
       "    <tr>\n",
       "      <th>mean</th>\n",
       "      <td>0.0</td>\n",
       "      <td>0.46</td>\n",
       "      <td>0.46</td>\n",
       "      <td>5.20</td>\n",
       "      <td>-11.93</td>\n",
       "      <td>0.63</td>\n",
       "      <td>0.05</td>\n",
       "      <td>0.52</td>\n",
       "      <td>0.38</td>\n",
       "      <td>0.16</td>\n",
       "      <td>0.33</td>\n",
       "      <td>118.04</td>\n",
       "      <td>NaN</td>\n",
       "      <td>NaN</td>\n",
       "    </tr>\n",
       "    <tr>\n",
       "      <th>std</th>\n",
       "      <td>0.0</td>\n",
       "      <td>0.16</td>\n",
       "      <td>0.34</td>\n",
       "      <td>3.44</td>\n",
       "      <td>7.99</td>\n",
       "      <td>0.48</td>\n",
       "      <td>0.03</td>\n",
       "      <td>0.41</td>\n",
       "      <td>0.43</td>\n",
       "      <td>0.10</td>\n",
       "      <td>0.22</td>\n",
       "      <td>34.08</td>\n",
       "      <td>NaN</td>\n",
       "      <td>NaN</td>\n",
       "    </tr>\n",
       "    <tr>\n",
       "      <th>min</th>\n",
       "      <td>0.0</td>\n",
       "      <td>0.06</td>\n",
       "      <td>0.00</td>\n",
       "      <td>0.00</td>\n",
       "      <td>-37.54</td>\n",
       "      <td>0.00</td>\n",
       "      <td>0.02</td>\n",
       "      <td>0.00</td>\n",
       "      <td>0.00</td>\n",
       "      <td>0.02</td>\n",
       "      <td>0.03</td>\n",
       "      <td>35.66</td>\n",
       "      <td>NaN</td>\n",
       "      <td>NaN</td>\n",
       "    </tr>\n",
       "    <tr>\n",
       "      <th>25%</th>\n",
       "      <td>0.0</td>\n",
       "      <td>0.34</td>\n",
       "      <td>0.11</td>\n",
       "      <td>2.00</td>\n",
       "      <td>-18.97</td>\n",
       "      <td>0.00</td>\n",
       "      <td>0.03</td>\n",
       "      <td>0.06</td>\n",
       "      <td>0.00</td>\n",
       "      <td>0.09</td>\n",
       "      <td>0.13</td>\n",
       "      <td>89.96</td>\n",
       "      <td>NaN</td>\n",
       "      <td>NaN</td>\n",
       "    </tr>\n",
       "    <tr>\n",
       "      <th>50%</th>\n",
       "      <td>0.0</td>\n",
       "      <td>0.48</td>\n",
       "      <td>0.43</td>\n",
       "      <td>5.00</td>\n",
       "      <td>-9.49</td>\n",
       "      <td>1.00</td>\n",
       "      <td>0.04</td>\n",
       "      <td>0.51</td>\n",
       "      <td>0.02</td>\n",
       "      <td>0.12</td>\n",
       "      <td>0.31</td>\n",
       "      <td>114.88</td>\n",
       "      <td>NaN</td>\n",
       "      <td>NaN</td>\n",
       "    </tr>\n",
       "    <tr>\n",
       "      <th>75%</th>\n",
       "      <td>0.0</td>\n",
       "      <td>0.58</td>\n",
       "      <td>0.78</td>\n",
       "      <td>8.00</td>\n",
       "      <td>-4.61</td>\n",
       "      <td>1.00</td>\n",
       "      <td>0.06</td>\n",
       "      <td>0.97</td>\n",
       "      <td>0.88</td>\n",
       "      <td>0.19</td>\n",
       "      <td>0.51</td>\n",
       "      <td>140.12</td>\n",
       "      <td>NaN</td>\n",
       "      <td>NaN</td>\n",
       "    </tr>\n",
       "    <tr>\n",
       "      <th>max</th>\n",
       "      <td>0.0</td>\n",
       "      <td>0.82</td>\n",
       "      <td>0.98</td>\n",
       "      <td>11.00</td>\n",
       "      <td>-0.64</td>\n",
       "      <td>1.00</td>\n",
       "      <td>0.22</td>\n",
       "      <td>1.00</td>\n",
       "      <td>0.99</td>\n",
       "      <td>0.68</td>\n",
       "      <td>0.85</td>\n",
       "      <td>213.99</td>\n",
       "      <td>NaN</td>\n",
       "      <td>NaN</td>\n",
       "    </tr>\n",
       "  </tbody>\n",
       "</table>\n",
       "</div>"
      ],
      "text/plain": [
       "        Unnamed: 0  danceability  energy     key  loudness    mode  \\\n",
       "count        438.0        438.00  438.00  438.00    438.00  438.00   \n",
       "unique         NaN           NaN     NaN     NaN       NaN     NaN   \n",
       "top            NaN           NaN     NaN     NaN       NaN     NaN   \n",
       "freq           NaN           NaN     NaN     NaN       NaN     NaN   \n",
       "mean           0.0          0.46    0.46    5.20    -11.93    0.63   \n",
       "std            0.0          0.16    0.34    3.44      7.99    0.48   \n",
       "min            0.0          0.06    0.00    0.00    -37.54    0.00   \n",
       "25%            0.0          0.34    0.11    2.00    -18.97    0.00   \n",
       "50%            0.0          0.48    0.43    5.00     -9.49    1.00   \n",
       "75%            0.0          0.58    0.78    8.00     -4.61    1.00   \n",
       "max            0.0          0.82    0.98   11.00     -0.64    1.00   \n",
       "\n",
       "        speechiness  acousticness  instrumentalness  liveness  valence  \\\n",
       "count        438.00        438.00            438.00    438.00   438.00   \n",
       "unique          NaN           NaN               NaN       NaN      NaN   \n",
       "top             NaN           NaN               NaN       NaN      NaN   \n",
       "freq            NaN           NaN               NaN       NaN      NaN   \n",
       "mean           0.05          0.52              0.38      0.16     0.33   \n",
       "std            0.03          0.41              0.43      0.10     0.22   \n",
       "min            0.02          0.00              0.00      0.02     0.03   \n",
       "25%            0.03          0.06              0.00      0.09     0.13   \n",
       "50%            0.04          0.51              0.02      0.12     0.31   \n",
       "75%            0.06          0.97              0.88      0.19     0.51   \n",
       "max            0.22          1.00              0.99      0.68     0.85   \n",
       "\n",
       "         tempo                                         track_href name  \n",
       "count   438.00                                                438  438  \n",
       "unique     NaN                                                438  420  \n",
       "top        NaN  https://api.spotify.com/v1/tracks/06XQvnJb53SU...  紅蓮華  \n",
       "freq       NaN                                                  1    3  \n",
       "mean    118.04                                                NaN  NaN  \n",
       "std      34.08                                                NaN  NaN  \n",
       "min      35.66                                                NaN  NaN  \n",
       "25%      89.96                                                NaN  NaN  \n",
       "50%     114.88                                                NaN  NaN  \n",
       "75%     140.12                                                NaN  NaN  \n",
       "max     213.99                                                NaN  NaN  "
      ]
     },
     "execution_count": 19,
     "metadata": {},
     "output_type": "execute_result"
    }
   ],
   "source": [
    "songs.describe(include=\"all\").round(2)"
   ]
  },
  {
   "cell_type": "code",
   "execution_count": 20,
   "id": "49a2573a",
   "metadata": {},
   "outputs": [
    {
     "name": "stdout",
     "output_type": "stream",
     "text": [
      "Best three pairs of features with highest standard deviation:\n",
      "('tempo', 'loudness')\n",
      "('tempo', 'key')\n",
      "('loudness', 'key')\n"
     ]
    }
   ],
   "source": [
    "# Drop non-numeric columns if any\n",
    "numeric_features = songs.select_dtypes(include=['float64', 'int64'])\n",
    "\n",
    "#standard deviation for each feature\n",
    "std_dev = numeric_features.std()\n",
    "\n",
    "# Sort features by standard deviation in descending order\n",
    "sorted_features = std_dev.sort_values(ascending=False)\n",
    "\n",
    "# Extract top three features with the highest standard deviation\n",
    "top_three_features = sorted_features.head(3)\n",
    "\n",
    "#finding top three features\n",
    "top_three_feature_names = top_three_features.index.tolist()\n",
    "\n",
    "# Generate combinations of top three features\n",
    "from itertools import combinations\n",
    "feature_combinations = list(combinations(top_three_feature_names, 2))\n",
    "\n",
    "print(\"Best three pairs of features with highest standard deviation:\")\n",
    "for pair in feature_combinations:\n",
    "    print(pair)\n"
   ]
  },
  {
   "cell_type": "code",
   "execution_count": null,
   "id": "2908f8c9",
   "metadata": {},
   "outputs": [],
   "source": []
  },
  {
   "cell_type": "code",
   "execution_count": 21,
   "id": "72f0b504",
   "metadata": {},
   "outputs": [],
   "source": [
    "from matplotlib import pyplot as plt\n",
    "import seaborn as sns\n",
    "sns.set_theme()"
   ]
  },
  {
   "cell_type": "code",
   "execution_count": 22,
   "id": "4e22ec5f",
   "metadata": {},
   "outputs": [
    {
     "data": {
      "image/png": "[encoded data removed]",
      "text/plain": [
       "<Figure size 1000x600 with 1 Axes>"
      ]
     },
     "metadata": {},
     "output_type": "display_data"
    }
   ],
   "source": [
    "ax=sns.scatterplot(data=songs,\n",
    "              x= 'loudness',\n",
    "              y= 'key',\n",
    "              s=100)"
   ]
  },
  {
   "cell_type": "code",
   "execution_count": 23,
   "id": "8794aec2",
   "metadata": {},
   "outputs": [
    {
     "data": {
      "image/png": "[encoded data removed]",
      "text/plain": [
       "<Figure size 1000x600 with 1 Axes>"
      ]
     },
     "metadata": {},
     "output_type": "display_data"
    }
   ],
   "source": [
    "ax=sns.scatterplot(data=songs,\n",
    "              x= 'tempo',\n",
    "              y= 'key',\n",
    "              s=100)"
   ]
  },
  {
   "cell_type": "code",
   "execution_count": 24,
   "id": "16e95815",
   "metadata": {},
   "outputs": [
    {
     "data": {
      "image/png": "[encoded data removed]",
      "text/plain": [
       "<Figure size 1000x600 with 1 Axes>"
      ]
     },
     "metadata": {},
     "output_type": "display_data"
    }
   ],
   "source": [
    "ax=sns.scatterplot(data=songs,\n",
    "              x= 'loudness',\n",
    "              y= 'key',\n",
    "              s=100)"
   ]
  },
  {
   "cell_type": "code",
   "execution_count": 25,
   "id": "b682304c",
   "metadata": {},
   "outputs": [
    {
     "data": {
      "text/html": [
       "<div>\n",
       "<style scoped>\n",
       "    .dataframe tbody tr th:only-of-type {\n",
       "        vertical-align: middle;\n",
       "    }\n",
       "\n",
       "    .dataframe tbody tr th {\n",
       "        vertical-align: top;\n",
       "    }\n",
       "\n",
       "    .dataframe thead th {\n",
       "        text-align: right;\n",
       "    }\n",
       "</style>\n",
       "<table border=\"1\" class=\"dataframe\">\n",
       "  <thead>\n",
       "    <tr style=\"text-align: right;\">\n",
       "      <th></th>\n",
       "      <th>tempo</th>\n",
       "      <th>loudness</th>\n",
       "    </tr>\n",
       "  </thead>\n",
       "  <tbody>\n",
       "    <tr>\n",
       "      <th>count</th>\n",
       "      <td>438.00</td>\n",
       "      <td>438.00</td>\n",
       "    </tr>\n",
       "    <tr>\n",
       "      <th>mean</th>\n",
       "      <td>118.04</td>\n",
       "      <td>-11.93</td>\n",
       "    </tr>\n",
       "    <tr>\n",
       "      <th>std</th>\n",
       "      <td>34.08</td>\n",
       "      <td>7.99</td>\n",
       "    </tr>\n",
       "    <tr>\n",
       "      <th>min</th>\n",
       "      <td>35.66</td>\n",
       "      <td>-37.54</td>\n",
       "    </tr>\n",
       "    <tr>\n",
       "      <th>25%</th>\n",
       "      <td>89.96</td>\n",
       "      <td>-18.97</td>\n",
       "    </tr>\n",
       "    <tr>\n",
       "      <th>50%</th>\n",
       "      <td>114.88</td>\n",
       "      <td>-9.49</td>\n",
       "    </tr>\n",
       "    <tr>\n",
       "      <th>75%</th>\n",
       "      <td>140.12</td>\n",
       "      <td>-4.61</td>\n",
       "    </tr>\n",
       "    <tr>\n",
       "      <th>max</th>\n",
       "      <td>213.99</td>\n",
       "      <td>-0.64</td>\n",
       "    </tr>\n",
       "  </tbody>\n",
       "</table>\n",
       "</div>"
      ],
      "text/plain": [
       "        tempo  loudness\n",
       "count  438.00    438.00\n",
       "mean   118.04    -11.93\n",
       "std     34.08      7.99\n",
       "min     35.66    -37.54\n",
       "25%     89.96    -18.97\n",
       "50%    114.88     -9.49\n",
       "75%    140.12     -4.61\n",
       "max    213.99     -0.64"
      ]
     },
     "execution_count": 25,
     "metadata": {},
     "output_type": "execute_result"
    }
   ],
   "source": [
    "songs[['tempo','loudness']].describe().round(2)"
   ]
  },
  {
   "cell_type": "code",
   "execution_count": null,
   "id": "79e26800",
   "metadata": {},
   "outputs": [],
   "source": []
  },
  {
   "cell_type": "code",
   "execution_count": 26,
   "id": "a1d6e0a0",
   "metadata": {},
   "outputs": [],
   "source": [
    "from sklearn.preprocessing import StandardScaler\n",
    "scaler=StandardScaler()"
   ]
  },
  {
   "cell_type": "code",
   "execution_count": 27,
   "id": "c2bb6ac4",
   "metadata": {},
   "outputs": [],
   "source": [
    "songs_scaled=scaler.fit_transform(songs[['tempo','loudness','key','energy','danceability','mode','speechiness','acousticness','instrumentalness','liveness','valence']])"
   ]
  },
  {
   "cell_type": "code",
   "execution_count": 28,
   "id": "a7849f70",
   "metadata": {},
   "outputs": [],
   "source": [
    "songs_scaled=pd.DataFrame(songs_scaled,columns=['tempo','loudness','key','energy','danceability','mode','speechiness','acousticness','instrumentalness','liveness','valence'])"
   ]
  },
  {
   "cell_type": "code",
   "execution_count": 29,
   "id": "79dc8310",
   "metadata": {},
   "outputs": [
    {
     "data": {
      "text/html": [
       "<div>\n",
       "<style scoped>\n",
       "    .dataframe tbody tr th:only-of-type {\n",
       "        vertical-align: middle;\n",
       "    }\n",
       "\n",
       "    .dataframe tbody tr th {\n",
       "        vertical-align: top;\n",
       "    }\n",
       "\n",
       "    .dataframe thead th {\n",
       "        text-align: right;\n",
       "    }\n",
       "</style>\n",
       "<table border=\"1\" class=\"dataframe\">\n",
       "  <thead>\n",
       "    <tr style=\"text-align: right;\">\n",
       "      <th></th>\n",
       "      <th>tempo</th>\n",
       "      <th>loudness</th>\n",
       "      <th>key</th>\n",
       "      <th>energy</th>\n",
       "      <th>danceability</th>\n",
       "      <th>mode</th>\n",
       "      <th>speechiness</th>\n",
       "      <th>acousticness</th>\n",
       "      <th>instrumentalness</th>\n",
       "      <th>liveness</th>\n",
       "      <th>valence</th>\n",
       "    </tr>\n",
       "  </thead>\n",
       "  <tbody>\n",
       "    <tr>\n",
       "      <th>count</th>\n",
       "      <td>438.00</td>\n",
       "      <td>438.00</td>\n",
       "      <td>438.00</td>\n",
       "      <td>438.00</td>\n",
       "      <td>438.00</td>\n",
       "      <td>438.00</td>\n",
       "      <td>438.00</td>\n",
       "      <td>438.00</td>\n",
       "      <td>438.00</td>\n",
       "      <td>438.00</td>\n",
       "      <td>438.00</td>\n",
       "    </tr>\n",
       "    <tr>\n",
       "      <th>mean</th>\n",
       "      <td>0.00</td>\n",
       "      <td>0.00</td>\n",
       "      <td>0.00</td>\n",
       "      <td>-0.00</td>\n",
       "      <td>0.00</td>\n",
       "      <td>0.00</td>\n",
       "      <td>0.00</td>\n",
       "      <td>-0.00</td>\n",
       "      <td>-0.00</td>\n",
       "      <td>0.00</td>\n",
       "      <td>-0.00</td>\n",
       "    </tr>\n",
       "    <tr>\n",
       "      <th>std</th>\n",
       "      <td>1.00</td>\n",
       "      <td>1.00</td>\n",
       "      <td>1.00</td>\n",
       "      <td>1.00</td>\n",
       "      <td>1.00</td>\n",
       "      <td>1.00</td>\n",
       "      <td>1.00</td>\n",
       "      <td>1.00</td>\n",
       "      <td>1.00</td>\n",
       "      <td>1.00</td>\n",
       "      <td>1.00</td>\n",
       "    </tr>\n",
       "    <tr>\n",
       "      <th>min</th>\n",
       "      <td>-2.42</td>\n",
       "      <td>-3.21</td>\n",
       "      <td>-1.51</td>\n",
       "      <td>-1.35</td>\n",
       "      <td>-2.46</td>\n",
       "      <td>-1.31</td>\n",
       "      <td>-1.00</td>\n",
       "      <td>-1.25</td>\n",
       "      <td>-0.90</td>\n",
       "      <td>-1.45</td>\n",
       "      <td>-1.36</td>\n",
       "    </tr>\n",
       "    <tr>\n",
       "      <th>25%</th>\n",
       "      <td>-0.82</td>\n",
       "      <td>-0.88</td>\n",
       "      <td>-0.93</td>\n",
       "      <td>-1.03</td>\n",
       "      <td>-0.76</td>\n",
       "      <td>-1.31</td>\n",
       "      <td>-0.62</td>\n",
       "      <td>-1.10</td>\n",
       "      <td>-0.90</td>\n",
       "      <td>-0.65</td>\n",
       "      <td>-0.89</td>\n",
       "    </tr>\n",
       "    <tr>\n",
       "      <th>50%</th>\n",
       "      <td>-0.09</td>\n",
       "      <td>0.30</td>\n",
       "      <td>-0.06</td>\n",
       "      <td>-0.08</td>\n",
       "      <td>0.15</td>\n",
       "      <td>0.77</td>\n",
       "      <td>-0.37</td>\n",
       "      <td>-0.02</td>\n",
       "      <td>-0.85</td>\n",
       "      <td>-0.40</td>\n",
       "      <td>-0.09</td>\n",
       "    </tr>\n",
       "    <tr>\n",
       "      <th>75%</th>\n",
       "      <td>0.65</td>\n",
       "      <td>0.92</td>\n",
       "      <td>0.82</td>\n",
       "      <td>0.96</td>\n",
       "      <td>0.78</td>\n",
       "      <td>0.77</td>\n",
       "      <td>0.21</td>\n",
       "      <td>1.09</td>\n",
       "      <td>1.17</td>\n",
       "      <td>0.35</td>\n",
       "      <td>0.80</td>\n",
       "    </tr>\n",
       "    <tr>\n",
       "      <th>max</th>\n",
       "      <td>2.82</td>\n",
       "      <td>1.41</td>\n",
       "      <td>1.69</td>\n",
       "      <td>1.56</td>\n",
       "      <td>2.26</td>\n",
       "      <td>0.77</td>\n",
       "      <td>5.10</td>\n",
       "      <td>1.16</td>\n",
       "      <td>1.40</td>\n",
       "      <td>5.48</td>\n",
       "      <td>2.37</td>\n",
       "    </tr>\n",
       "  </tbody>\n",
       "</table>\n",
       "</div>"
      ],
      "text/plain": [
       "        tempo  loudness     key  energy  danceability    mode  speechiness  \\\n",
       "count  438.00    438.00  438.00  438.00        438.00  438.00       438.00   \n",
       "mean     0.00      0.00    0.00   -0.00          0.00    0.00         0.00   \n",
       "std      1.00      1.00    1.00    1.00          1.00    1.00         1.00   \n",
       "min     -2.42     -3.21   -1.51   -1.35         -2.46   -1.31        -1.00   \n",
       "25%     -0.82     -0.88   -0.93   -1.03         -0.76   -1.31        -0.62   \n",
       "50%     -0.09      0.30   -0.06   -0.08          0.15    0.77        -0.37   \n",
       "75%      0.65      0.92    0.82    0.96          0.78    0.77         0.21   \n",
       "max      2.82      1.41    1.69    1.56          2.26    0.77         5.10   \n",
       "\n",
       "       acousticness  instrumentalness  liveness  valence  \n",
       "count        438.00            438.00    438.00   438.00  \n",
       "mean          -0.00             -0.00      0.00    -0.00  \n",
       "std            1.00              1.00      1.00     1.00  \n",
       "min           -1.25             -0.90     -1.45    -1.36  \n",
       "25%           -1.10             -0.90     -0.65    -0.89  \n",
       "50%           -0.02             -0.85     -0.40    -0.09  \n",
       "75%            1.09              1.17      0.35     0.80  \n",
       "max            1.16              1.40      5.48     2.37  "
      ]
     },
     "execution_count": 29,
     "metadata": {},
     "output_type": "execute_result"
    }
   ],
   "source": [
    "songs_scaled.describe().round(2)\n"
   ]
  },
  {
   "cell_type": "code",
   "execution_count": null,
   "id": "01703269",
   "metadata": {},
   "outputs": [],
   "source": []
  },
  {
   "cell_type": "code",
   "execution_count": null,
   "id": "cfb1b3f6",
   "metadata": {},
   "outputs": [],
   "source": []
  },
  {
   "cell_type": "code",
   "execution_count": null,
   "id": "e6a9fbd1",
   "metadata": {},
   "outputs": [],
   "source": []
  },
  {
   "cell_type": "code",
   "execution_count": null,
   "id": "d40de4ee",
   "metadata": {},
   "outputs": [],
   "source": []
  },
  {
   "cell_type": "code",
   "execution_count": null,
   "id": "44521b97",
   "metadata": {},
   "outputs": [],
   "source": []
  },
  {
   "cell_type": "code",
   "execution_count": 8,
   "id": "f7821838",
   "metadata": {
    "scrolled": true
   },
   "outputs": [
    {
     "ename": "NameError",
     "evalue": "name 'km' is not defined",
     "output_type": "error",
     "traceback": [
      "\u001b[0;31m---------------------------------------------------------------------------\u001b[0m",
      "\u001b[0;31mNameError\u001b[0m                                 Traceback (most recent call last)",
      "Cell \u001b[0;32mIn[8], line 1\u001b[0m\n\u001b[0;32m----> 1\u001b[0m pd\u001b[38;5;241m.\u001b[39mSeries(km\u001b[38;5;241m.\u001b[39mlabels_)\u001b[38;5;241m.\u001b[39mvalue_counts()\u001b[38;5;241m.\u001b[39msort_index()\n",
      "\u001b[0;31mNameError\u001b[0m: name 'km' is not defined"
     ]
    }
   ],
   "source": []
  },
  {
   "cell_type": "code",
   "execution_count": null,
   "id": "95a3ae58",
   "metadata": {},
   "outputs": [],
   "source": []
  },
  {
   "cell_type": "code",
   "execution_count": null,
   "id": "3a7a449c",
   "metadata": {},
   "outputs": [],
   "source": []
  },
  {
   "cell_type": "code",
   "execution_count": null,
   "id": "713b416a",
   "metadata": {},
   "outputs": [],
   "source": []
  },
  {
   "cell_type": "code",
   "execution_count": null,
   "id": "d53d188c",
   "metadata": {},
   "outputs": [],
   "source": []
  },
  {
   "cell_type": "code",
   "execution_count": null,
   "id": "7a2b316f",
   "metadata": {},
   "outputs": [],
   "source": []
  },
  {
   "cell_type": "code",
   "execution_count": null,
   "id": "cb175391",
   "metadata": {},
   "outputs": [],
   "source": []
  },
  {
   "cell_type": "code",
   "execution_count": null,
   "id": "37296e03",
   "metadata": {},
   "outputs": [],
   "source": []
  },
  {
   "cell_type": "code",
   "execution_count": null,
   "id": "d0c2388b",
   "metadata": {},
   "outputs": [],
   "source": []
  },
  {
   "cell_type": "code",
   "execution_count": null,
   "id": "a3a81e52",
   "metadata": {},
   "outputs": [],
   "source": []
  },
  {
   "cell_type": "code",
   "execution_count": null,
   "id": "f637e0e0",
   "metadata": {},
   "outputs": [],
   "source": []
  },
  {
   "cell_type": "code",
   "execution_count": null,
   "id": "f63ca5b9",
   "metadata": {},
   "outputs": [],
   "source": []
  },
  {
   "cell_type": "code",
   "execution_count": null,
   "id": "e7eb82fe",
   "metadata": {},
   "outputs": [],
   "source": []
  },
  {
   "cell_type": "code",
   "execution_count": null,
   "id": "91fbd9ec",
   "metadata": {},
   "outputs": [],
   "source": []
  },
  {
   "cell_type": "code",
   "execution_count": null,
   "id": "a3a5f02e",
   "metadata": {},
   "outputs": [],
   "source": []
  },
  {
   "cell_type": "code",
   "execution_count": null,
   "id": "6ad888f4",
   "metadata": {},
   "outputs": [],
   "source": []
  },
  {
   "cell_type": "code",
   "execution_count": null,
   "id": "d4bfc689",
   "metadata": {},
   "outputs": [],
   "source": []
  },
  {
   "cell_type": "code",
   "execution_count": null,
   "id": "f29ab063",
   "metadata": {},
   "outputs": [],
   "source": []
  },
  {
   "cell_type": "code",
   "execution_count": null,
   "id": "1d7a1fe8",
   "metadata": {},
   "outputs": [],
   "source": []
  },
  {
   "cell_type": "code",
   "execution_count": null,
   "id": "79115d8c",
   "metadata": {},
   "outputs": [],
   "source": []
  },
  {
   "cell_type": "code",
   "execution_count": null,
   "id": "8e19a29e",
   "metadata": {},
   "outputs": [],
   "source": []
  },
  {
   "cell_type": "code",
   "execution_count": null,
   "id": "183a1cc5",
   "metadata": {},
   "outputs": [],
   "source": []
  },
  {
   "cell_type": "code",
   "execution_count": null,
   "id": "4c76a73b",
   "metadata": {},
   "outputs": [],
   "source": []
  },
  {
   "cell_type": "code",
   "execution_count": null,
   "id": "5ab59003",
   "metadata": {},
   "outputs": [],
   "source": []
  },
  {
   "cell_type": "code",
   "execution_count": null,
   "id": "3b5030ed",
   "metadata": {
    "scrolled": true
   },
   "outputs": [],
   "source": []
  },
  {
   "cell_type": "code",
   "execution_count": null,
   "id": "c8c4c05c",
   "metadata": {
    "scrolled": true
   },
   "outputs": [],
   "source": []
  },
  {
   "cell_type": "code",
   "execution_count": null,
   "id": "0d2b00b5",
   "metadata": {},
   "outputs": [],
   "source": []
  },
  {
   "cell_type": "code",
   "execution_count": null,
   "id": "d3b7cc9d",
   "metadata": {},
   "outputs": [],
   "source": []
  },
  {
   "cell_type": "code",
   "execution_count": 9,
   "id": "424855cd",
   "metadata": {},
   "outputs": [
    {
     "ename": "NameError",
     "evalue": "name 'sns' is not defined",
     "output_type": "error",
     "traceback": [
      "\u001b[0;31m---------------------------------------------------------------------------\u001b[0m",
      "\u001b[0;31mNameError\u001b[0m                                 Traceback (most recent call last)",
      "Cell \u001b[0;32mIn[9], line 1\u001b[0m\n\u001b[0;32m----> 1\u001b[0m ax\u001b[38;5;241m=\u001b[39msns\u001b[38;5;241m.\u001b[39mscatterplot(data\u001b[38;5;241m=\u001b[39mcustomers,\n\u001b[1;32m      2\u001b[0m               x\u001b[38;5;241m=\u001b[39m \u001b[38;5;124m'\u001b[39m\u001b[38;5;124mdanceability\u001b[39m\u001b[38;5;124m'\u001b[39m,\n\u001b[1;32m      3\u001b[0m               y\u001b[38;5;241m=\u001b[39m \u001b[38;5;124m'\u001b[39m\u001b[38;5;124mspeechiness\u001b[39m\u001b[38;5;124m'\u001b[39m,\n\u001b[1;32m      4\u001b[0m               s\u001b[38;5;241m=\u001b[39m\u001b[38;5;241m100\u001b[39m)\n",
      "\u001b[0;31mNameError\u001b[0m: name 'sns' is not defined"
     ]
    }
   ],
   "source": [
    "ax=sns.scatterplot(data=customers,\n",
    "              x= 'danceability',\n",
    "              y= 'speechiness',\n",
    "              s=100)"
   ]
  },
  {
   "cell_type": "code",
   "execution_count": 10,
   "id": "a74b9136",
   "metadata": {},
   "outputs": [
    {
     "ename": "NameError",
     "evalue": "name 'sns' is not defined",
     "output_type": "error",
     "traceback": [
      "\u001b[0;31m---------------------------------------------------------------------------\u001b[0m",
      "\u001b[0;31mNameError\u001b[0m                                 Traceback (most recent call last)",
      "Cell \u001b[0;32mIn[10], line 1\u001b[0m\n\u001b[0;32m----> 1\u001b[0m ax\u001b[38;5;241m=\u001b[39msns\u001b[38;5;241m.\u001b[39mscatterplot(data\u001b[38;5;241m=\u001b[39mcustomers,\n\u001b[1;32m      2\u001b[0m               x\u001b[38;5;241m=\u001b[39m \u001b[38;5;124m'\u001b[39m\u001b[38;5;124mdanceability\u001b[39m\u001b[38;5;124m'\u001b[39m,\n\u001b[1;32m      3\u001b[0m               y\u001b[38;5;241m=\u001b[39m \u001b[38;5;124m'\u001b[39m\u001b[38;5;124macousticness\u001b[39m\u001b[38;5;124m'\u001b[39m,\n\u001b[1;32m      4\u001b[0m               s\u001b[38;5;241m=\u001b[39m\u001b[38;5;241m100\u001b[39m)\n",
      "\u001b[0;31mNameError\u001b[0m: name 'sns' is not defined"
     ]
    }
   ],
   "source": [
    "ax=sns.scatterplot(data=customers,\n",
    "              x= 'danceability',\n",
    "              y= 'acousticness',\n",
    "              s=100)"
   ]
  },
  {
   "cell_type": "code",
   "execution_count": 11,
   "id": "b57ef38a",
   "metadata": {},
   "outputs": [
    {
     "ename": "NameError",
     "evalue": "name 'sns' is not defined",
     "output_type": "error",
     "traceback": [
      "\u001b[0;31m---------------------------------------------------------------------------\u001b[0m",
      "\u001b[0;31mNameError\u001b[0m                                 Traceback (most recent call last)",
      "Cell \u001b[0;32mIn[11], line 1\u001b[0m\n\u001b[0;32m----> 1\u001b[0m ax\u001b[38;5;241m=\u001b[39msns\u001b[38;5;241m.\u001b[39mscatterplot(data\u001b[38;5;241m=\u001b[39mcustomers,\n\u001b[1;32m      2\u001b[0m               x\u001b[38;5;241m=\u001b[39m \u001b[38;5;124m'\u001b[39m\u001b[38;5;124mdanceability\u001b[39m\u001b[38;5;124m'\u001b[39m,\n\u001b[1;32m      3\u001b[0m               y\u001b[38;5;241m=\u001b[39m \u001b[38;5;124m'\u001b[39m\u001b[38;5;124minstrumentalness\u001b[39m\u001b[38;5;124m'\u001b[39m,\n\u001b[1;32m      4\u001b[0m               s\u001b[38;5;241m=\u001b[39m\u001b[38;5;241m100\u001b[39m)\n",
      "\u001b[0;31mNameError\u001b[0m: name 'sns' is not defined"
     ]
    }
   ],
   "source": [
    "ax=sns.scatterplot(data=customers,\n",
    "              x= 'danceability',\n",
    "              y= 'instrumentalness',\n",
    "              s=100)"
   ]
  },
  {
   "cell_type": "code",
   "execution_count": 12,
   "id": "40cc567f",
   "metadata": {},
   "outputs": [
    {
     "ename": "NameError",
     "evalue": "name 'sns' is not defined",
     "output_type": "error",
     "traceback": [
      "\u001b[0;31m---------------------------------------------------------------------------\u001b[0m",
      "\u001b[0;31mNameError\u001b[0m                                 Traceback (most recent call last)",
      "Cell \u001b[0;32mIn[12], line 1\u001b[0m\n\u001b[0;32m----> 1\u001b[0m ax\u001b[38;5;241m=\u001b[39msns\u001b[38;5;241m.\u001b[39mscatterplot(data\u001b[38;5;241m=\u001b[39mcustomers,\n\u001b[1;32m      2\u001b[0m               x\u001b[38;5;241m=\u001b[39m \u001b[38;5;124m'\u001b[39m\u001b[38;5;124mdanceability\u001b[39m\u001b[38;5;124m'\u001b[39m,\n\u001b[1;32m      3\u001b[0m               y\u001b[38;5;241m=\u001b[39m \u001b[38;5;124m'\u001b[39m\u001b[38;5;124mliveness\u001b[39m\u001b[38;5;124m'\u001b[39m,\n\u001b[1;32m      4\u001b[0m               s\u001b[38;5;241m=\u001b[39m\u001b[38;5;241m100\u001b[39m)\n",
      "\u001b[0;31mNameError\u001b[0m: name 'sns' is not defined"
     ]
    }
   ],
   "source": [
    "ax=sns.scatterplot(data=customers,\n",
    "              x= 'danceability',\n",
    "              y= 'liveness',\n",
    "              s=100)"
   ]
  },
  {
   "cell_type": "code",
   "execution_count": 13,
   "id": "0e255d71",
   "metadata": {},
   "outputs": [
    {
     "ename": "NameError",
     "evalue": "name 'sns' is not defined",
     "output_type": "error",
     "traceback": [
      "\u001b[0;31m---------------------------------------------------------------------------\u001b[0m",
      "\u001b[0;31mNameError\u001b[0m                                 Traceback (most recent call last)",
      "Cell \u001b[0;32mIn[13], line 1\u001b[0m\n\u001b[0;32m----> 1\u001b[0m ax\u001b[38;5;241m=\u001b[39msns\u001b[38;5;241m.\u001b[39mscatterplot(data\u001b[38;5;241m=\u001b[39mcustomers,\n\u001b[1;32m      2\u001b[0m               x\u001b[38;5;241m=\u001b[39m \u001b[38;5;124m'\u001b[39m\u001b[38;5;124mdanceability\u001b[39m\u001b[38;5;124m'\u001b[39m,\n\u001b[1;32m      3\u001b[0m               y\u001b[38;5;241m=\u001b[39m \u001b[38;5;124m'\u001b[39m\u001b[38;5;124mvalence\u001b[39m\u001b[38;5;124m'\u001b[39m,\n\u001b[1;32m      4\u001b[0m               s\u001b[38;5;241m=\u001b[39m\u001b[38;5;241m100\u001b[39m)\n",
      "\u001b[0;31mNameError\u001b[0m: name 'sns' is not defined"
     ]
    }
   ],
   "source": [
    "ax=sns.scatterplot(data=customers,\n",
    "              x= 'danceability',\n",
    "              y= 'valence',\n",
    "              s=100)"
   ]
  },
  {
   "cell_type": "code",
   "execution_count": 14,
   "id": "8169a7ba",
   "metadata": {},
   "outputs": [
    {
     "ename": "NameError",
     "evalue": "name 'sns' is not defined",
     "output_type": "error",
     "traceback": [
      "\u001b[0;31m---------------------------------------------------------------------------\u001b[0m",
      "\u001b[0;31mNameError\u001b[0m                                 Traceback (most recent call last)",
      "Cell \u001b[0;32mIn[14], line 1\u001b[0m\n\u001b[0;32m----> 1\u001b[0m ax\u001b[38;5;241m=\u001b[39msns\u001b[38;5;241m.\u001b[39mscatterplot(data\u001b[38;5;241m=\u001b[39mcustomers,\n\u001b[1;32m      2\u001b[0m               x\u001b[38;5;241m=\u001b[39m \u001b[38;5;124m'\u001b[39m\u001b[38;5;124mdanceability\u001b[39m\u001b[38;5;124m'\u001b[39m,\n\u001b[1;32m      3\u001b[0m               y\u001b[38;5;241m=\u001b[39m \u001b[38;5;124m'\u001b[39m\u001b[38;5;124mtempo\u001b[39m\u001b[38;5;124m'\u001b[39m,\n\u001b[1;32m      4\u001b[0m               s\u001b[38;5;241m=\u001b[39m\u001b[38;5;241m100\u001b[39m)\n",
      "\u001b[0;31mNameError\u001b[0m: name 'sns' is not defined"
     ]
    }
   ],
   "source": [
    "ax=sns.scatterplot(data=customers,\n",
    "              x= 'danceability',\n",
    "              y= 'tempo',\n",
    "              s=100)"
   ]
  },
  {
   "cell_type": "code",
   "execution_count": 15,
   "id": "00d9c8df",
   "metadata": {},
   "outputs": [
    {
     "ename": "NameError",
     "evalue": "name 'sns' is not defined",
     "output_type": "error",
     "traceback": [
      "\u001b[0;31m---------------------------------------------------------------------------\u001b[0m",
      "\u001b[0;31mNameError\u001b[0m                                 Traceback (most recent call last)",
      "Cell \u001b[0;32mIn[15], line 1\u001b[0m\n\u001b[0;32m----> 1\u001b[0m ax\u001b[38;5;241m=\u001b[39msns\u001b[38;5;241m.\u001b[39mscatterplot(data\u001b[38;5;241m=\u001b[39mcustomers,\n\u001b[1;32m      2\u001b[0m               x\u001b[38;5;241m=\u001b[39m \u001b[38;5;124m'\u001b[39m\u001b[38;5;124mvalence\u001b[39m\u001b[38;5;124m'\u001b[39m,\n\u001b[1;32m      3\u001b[0m               y\u001b[38;5;241m=\u001b[39m \u001b[38;5;124m'\u001b[39m\u001b[38;5;124mtype\u001b[39m\u001b[38;5;124m'\u001b[39m,\n\u001b[1;32m      4\u001b[0m               s\u001b[38;5;241m=\u001b[39m\u001b[38;5;241m100\u001b[39m)\n",
      "\u001b[0;31mNameError\u001b[0m: name 'sns' is not defined"
     ]
    }
   ],
   "source": [
    "ax=sns.scatterplot(data=customers,\n",
    "              x= 'valence',\n",
    "              y= 'type',\n",
    "              s=100)"
   ]
  },
  {
   "cell_type": "code",
   "execution_count": 16,
   "id": "feddb2c8",
   "metadata": {},
   "outputs": [
    {
     "ename": "NameError",
     "evalue": "name 'sns' is not defined",
     "output_type": "error",
     "traceback": [
      "\u001b[0;31m---------------------------------------------------------------------------\u001b[0m",
      "\u001b[0;31mNameError\u001b[0m                                 Traceback (most recent call last)",
      "Cell \u001b[0;32mIn[16], line 1\u001b[0m\n\u001b[0;32m----> 1\u001b[0m ax\u001b[38;5;241m=\u001b[39msns\u001b[38;5;241m.\u001b[39mscatterplot(data\u001b[38;5;241m=\u001b[39mcustomers,\n\u001b[1;32m      2\u001b[0m               x\u001b[38;5;241m=\u001b[39m \u001b[38;5;124m'\u001b[39m\u001b[38;5;124menergy\u001b[39m\u001b[38;5;124m'\u001b[39m,\n\u001b[1;32m      3\u001b[0m               y\u001b[38;5;241m=\u001b[39m \u001b[38;5;124m'\u001b[39m\u001b[38;5;124mloudness\u001b[39m\u001b[38;5;124m'\u001b[39m,\n\u001b[1;32m      4\u001b[0m               s\u001b[38;5;241m=\u001b[39m\u001b[38;5;241m100\u001b[39m)\n",
      "\u001b[0;31mNameError\u001b[0m: name 'sns' is not defined"
     ]
    }
   ],
   "source": [
    "ax=sns.scatterplot(data=customers,\n",
    "              x= 'energy',\n",
    "              y= 'loudness',\n",
    "              s=100)"
   ]
  },
  {
   "cell_type": "code",
   "execution_count": 17,
   "id": "af1dfa90",
   "metadata": {},
   "outputs": [
    {
     "ename": "NameError",
     "evalue": "name 'sns' is not defined",
     "output_type": "error",
     "traceback": [
      "\u001b[0;31m---------------------------------------------------------------------------\u001b[0m",
      "\u001b[0;31mNameError\u001b[0m                                 Traceback (most recent call last)",
      "Cell \u001b[0;32mIn[17], line 1\u001b[0m\n\u001b[0;32m----> 1\u001b[0m ax\u001b[38;5;241m=\u001b[39msns\u001b[38;5;241m.\u001b[39mscatterplot(data\u001b[38;5;241m=\u001b[39mcustomers,\n\u001b[1;32m      2\u001b[0m               x\u001b[38;5;241m=\u001b[39m \u001b[38;5;124m'\u001b[39m\u001b[38;5;124menergy\u001b[39m\u001b[38;5;124m'\u001b[39m,\n\u001b[1;32m      3\u001b[0m               y\u001b[38;5;241m=\u001b[39m \u001b[38;5;124m'\u001b[39m\u001b[38;5;124mspeechiness\u001b[39m\u001b[38;5;124m'\u001b[39m,\n\u001b[1;32m      4\u001b[0m               s\u001b[38;5;241m=\u001b[39m\u001b[38;5;241m100\u001b[39m)\n",
      "\u001b[0;31mNameError\u001b[0m: name 'sns' is not defined"
     ]
    }
   ],
   "source": [
    "ax=sns.scatterplot(data=customers,\n",
    "              x= 'energy',\n",
    "              y= 'speechiness',\n",
    "              s=100)"
   ]
  },
  {
   "cell_type": "code",
   "execution_count": 18,
   "id": "e479a497",
   "metadata": {},
   "outputs": [
    {
     "ename": "NameError",
     "evalue": "name 'sns' is not defined",
     "output_type": "error",
     "traceback": [
      "\u001b[0;31m---------------------------------------------------------------------------\u001b[0m",
      "\u001b[0;31mNameError\u001b[0m                                 Traceback (most recent call last)",
      "Cell \u001b[0;32mIn[18], line 1\u001b[0m\n\u001b[0;32m----> 1\u001b[0m ax\u001b[38;5;241m=\u001b[39msns\u001b[38;5;241m.\u001b[39mscatterplot(data\u001b[38;5;241m=\u001b[39mcustomers,\n\u001b[1;32m      2\u001b[0m               x\u001b[38;5;241m=\u001b[39m \u001b[38;5;124m'\u001b[39m\u001b[38;5;124menergy\u001b[39m\u001b[38;5;124m'\u001b[39m,\n\u001b[1;32m      3\u001b[0m               y\u001b[38;5;241m=\u001b[39m \u001b[38;5;124m'\u001b[39m\u001b[38;5;124macousticness\u001b[39m\u001b[38;5;124m'\u001b[39m,\n\u001b[1;32m      4\u001b[0m               s\u001b[38;5;241m=\u001b[39m\u001b[38;5;241m100\u001b[39m)\n",
      "\u001b[0;31mNameError\u001b[0m: name 'sns' is not defined"
     ]
    }
   ],
   "source": [
    "ax=sns.scatterplot(data=customers,\n",
    "              x= 'energy',\n",
    "              y= 'acousticness',\n",
    "              s=100)"
   ]
  },
  {
   "cell_type": "code",
   "execution_count": 19,
   "id": "9173866a",
   "metadata": {},
   "outputs": [
    {
     "ename": "NameError",
     "evalue": "name 'sns' is not defined",
     "output_type": "error",
     "traceback": [
      "\u001b[0;31m---------------------------------------------------------------------------\u001b[0m",
      "\u001b[0;31mNameError\u001b[0m                                 Traceback (most recent call last)",
      "Cell \u001b[0;32mIn[19], line 1\u001b[0m\n\u001b[0;32m----> 1\u001b[0m ax\u001b[38;5;241m=\u001b[39msns\u001b[38;5;241m.\u001b[39mscatterplot(data\u001b[38;5;241m=\u001b[39mcustomers,\n\u001b[1;32m      2\u001b[0m               x\u001b[38;5;241m=\u001b[39m \u001b[38;5;124m'\u001b[39m\u001b[38;5;124menergy\u001b[39m\u001b[38;5;124m'\u001b[39m,\n\u001b[1;32m      3\u001b[0m               y\u001b[38;5;241m=\u001b[39m \u001b[38;5;124m'\u001b[39m\u001b[38;5;124minstrumentalness\u001b[39m\u001b[38;5;124m'\u001b[39m,\n\u001b[1;32m      4\u001b[0m               s\u001b[38;5;241m=\u001b[39m\u001b[38;5;241m100\u001b[39m)\n",
      "\u001b[0;31mNameError\u001b[0m: name 'sns' is not defined"
     ]
    }
   ],
   "source": [
    "ax=sns.scatterplot(data=customers,\n",
    "              x= 'energy',\n",
    "              y= 'instrumentalness',\n",
    "              s=100)"
   ]
  },
  {
   "cell_type": "code",
   "execution_count": 20,
   "id": "80c96dac",
   "metadata": {},
   "outputs": [
    {
     "ename": "NameError",
     "evalue": "name 'sns' is not defined",
     "output_type": "error",
     "traceback": [
      "\u001b[0;31m---------------------------------------------------------------------------\u001b[0m",
      "\u001b[0;31mNameError\u001b[0m                                 Traceback (most recent call last)",
      "Cell \u001b[0;32mIn[20], line 1\u001b[0m\n\u001b[0;32m----> 1\u001b[0m ax\u001b[38;5;241m=\u001b[39msns\u001b[38;5;241m.\u001b[39mscatterplot(data\u001b[38;5;241m=\u001b[39mcustomers,\n\u001b[1;32m      2\u001b[0m               x\u001b[38;5;241m=\u001b[39m \u001b[38;5;124m'\u001b[39m\u001b[38;5;124menergy\u001b[39m\u001b[38;5;124m'\u001b[39m,\n\u001b[1;32m      3\u001b[0m               y\u001b[38;5;241m=\u001b[39m \u001b[38;5;124m'\u001b[39m\u001b[38;5;124mliveness\u001b[39m\u001b[38;5;124m'\u001b[39m,\n\u001b[1;32m      4\u001b[0m               s\u001b[38;5;241m=\u001b[39m\u001b[38;5;241m100\u001b[39m)\n",
      "\u001b[0;31mNameError\u001b[0m: name 'sns' is not defined"
     ]
    }
   ],
   "source": [
    "ax=sns.scatterplot(data=customers,\n",
    "              x= 'energy',\n",
    "              y= 'liveness',\n",
    "              s=100)"
   ]
  },
  {
   "cell_type": "code",
   "execution_count": 21,
   "id": "4ddc653e",
   "metadata": {},
   "outputs": [
    {
     "ename": "NameError",
     "evalue": "name 'sns' is not defined",
     "output_type": "error",
     "traceback": [
      "\u001b[0;31m---------------------------------------------------------------------------\u001b[0m",
      "\u001b[0;31mNameError\u001b[0m                                 Traceback (most recent call last)",
      "Cell \u001b[0;32mIn[21], line 1\u001b[0m\n\u001b[0;32m----> 1\u001b[0m ax\u001b[38;5;241m=\u001b[39msns\u001b[38;5;241m.\u001b[39mscatterplot(data\u001b[38;5;241m=\u001b[39mcustomers,\n\u001b[1;32m      2\u001b[0m               x\u001b[38;5;241m=\u001b[39m \u001b[38;5;124m'\u001b[39m\u001b[38;5;124menergy\u001b[39m\u001b[38;5;124m'\u001b[39m,\n\u001b[1;32m      3\u001b[0m               y\u001b[38;5;241m=\u001b[39m \u001b[38;5;124m'\u001b[39m\u001b[38;5;124mvalence\u001b[39m\u001b[38;5;124m'\u001b[39m,\n\u001b[1;32m      4\u001b[0m               s\u001b[38;5;241m=\u001b[39m\u001b[38;5;241m100\u001b[39m)\n",
      "\u001b[0;31mNameError\u001b[0m: name 'sns' is not defined"
     ]
    }
   ],
   "source": [
    "ax=sns.scatterplot(data=customers,\n",
    "              x= 'energy',\n",
    "              y= 'valence',\n",
    "              s=100)"
   ]
  },
  {
   "cell_type": "code",
   "execution_count": 22,
   "id": "3d086e7d",
   "metadata": {},
   "outputs": [
    {
     "ename": "NameError",
     "evalue": "name 'sns' is not defined",
     "output_type": "error",
     "traceback": [
      "\u001b[0;31m---------------------------------------------------------------------------\u001b[0m",
      "\u001b[0;31mNameError\u001b[0m                                 Traceback (most recent call last)",
      "Cell \u001b[0;32mIn[22], line 1\u001b[0m\n\u001b[0;32m----> 1\u001b[0m ax\u001b[38;5;241m=\u001b[39msns\u001b[38;5;241m.\u001b[39mscatterplot(data\u001b[38;5;241m=\u001b[39mcustomers,\n\u001b[1;32m      2\u001b[0m               x\u001b[38;5;241m=\u001b[39m \u001b[38;5;124m'\u001b[39m\u001b[38;5;124menergy\u001b[39m\u001b[38;5;124m'\u001b[39m,\n\u001b[1;32m      3\u001b[0m               y\u001b[38;5;241m=\u001b[39m \u001b[38;5;124m'\u001b[39m\u001b[38;5;124mtempo\u001b[39m\u001b[38;5;124m'\u001b[39m,\n\u001b[1;32m      4\u001b[0m               s\u001b[38;5;241m=\u001b[39m\u001b[38;5;241m100\u001b[39m)\n",
      "\u001b[0;31mNameError\u001b[0m: name 'sns' is not defined"
     ]
    }
   ],
   "source": [
    "ax=sns.scatterplot(data=customers,\n",
    "              x= 'energy',\n",
    "              y= 'tempo',\n",
    "              s=100)"
   ]
  },
  {
   "cell_type": "code",
   "execution_count": 23,
   "id": "0ac039cc",
   "metadata": {},
   "outputs": [
    {
     "ename": "NameError",
     "evalue": "name 'sns' is not defined",
     "output_type": "error",
     "traceback": [
      "\u001b[0;31m---------------------------------------------------------------------------\u001b[0m",
      "\u001b[0;31mNameError\u001b[0m                                 Traceback (most recent call last)",
      "Cell \u001b[0;32mIn[23], line 1\u001b[0m\n\u001b[0;32m----> 1\u001b[0m ax\u001b[38;5;241m=\u001b[39msns\u001b[38;5;241m.\u001b[39mscatterplot(data\u001b[38;5;241m=\u001b[39mcustomers,\n\u001b[1;32m      2\u001b[0m               x\u001b[38;5;241m=\u001b[39m \u001b[38;5;124m'\u001b[39m\u001b[38;5;124mloudness\u001b[39m\u001b[38;5;124m'\u001b[39m,\n\u001b[1;32m      3\u001b[0m               y\u001b[38;5;241m=\u001b[39m \u001b[38;5;124m'\u001b[39m\u001b[38;5;124mspeechiness\u001b[39m\u001b[38;5;124m'\u001b[39m,\n\u001b[1;32m      4\u001b[0m               s\u001b[38;5;241m=\u001b[39m\u001b[38;5;241m100\u001b[39m)\n",
      "\u001b[0;31mNameError\u001b[0m: name 'sns' is not defined"
     ]
    }
   ],
   "source": [
    "ax=sns.scatterplot(data=customers,\n",
    "              x= 'loudness',\n",
    "              y= 'speechiness',\n",
    "              s=100)"
   ]
  },
  {
   "cell_type": "code",
   "execution_count": 24,
   "id": "1535d717",
   "metadata": {},
   "outputs": [
    {
     "ename": "NameError",
     "evalue": "name 'sns' is not defined",
     "output_type": "error",
     "traceback": [
      "\u001b[0;31m---------------------------------------------------------------------------\u001b[0m",
      "\u001b[0;31mNameError\u001b[0m                                 Traceback (most recent call last)",
      "Cell \u001b[0;32mIn[24], line 1\u001b[0m\n\u001b[0;32m----> 1\u001b[0m ax\u001b[38;5;241m=\u001b[39msns\u001b[38;5;241m.\u001b[39mscatterplot(data\u001b[38;5;241m=\u001b[39mcustomers,\n\u001b[1;32m      2\u001b[0m               x\u001b[38;5;241m=\u001b[39m \u001b[38;5;124m'\u001b[39m\u001b[38;5;124mloudness\u001b[39m\u001b[38;5;124m'\u001b[39m,\n\u001b[1;32m      3\u001b[0m               y\u001b[38;5;241m=\u001b[39m \u001b[38;5;124m'\u001b[39m\u001b[38;5;124macousticness\u001b[39m\u001b[38;5;124m'\u001b[39m,\n\u001b[1;32m      4\u001b[0m               s\u001b[38;5;241m=\u001b[39m\u001b[38;5;241m100\u001b[39m)\n",
      "\u001b[0;31mNameError\u001b[0m: name 'sns' is not defined"
     ]
    }
   ],
   "source": [
    "ax=sns.scatterplot(data=customers,\n",
    "              x= 'loudness',\n",
    "              y= 'acousticness',\n",
    "              s=100)"
   ]
  },
  {
   "cell_type": "code",
   "execution_count": 25,
   "id": "6ce055b5",
   "metadata": {},
   "outputs": [
    {
     "ename": "NameError",
     "evalue": "name 'sns' is not defined",
     "output_type": "error",
     "traceback": [
      "\u001b[0;31m---------------------------------------------------------------------------\u001b[0m",
      "\u001b[0;31mNameError\u001b[0m                                 Traceback (most recent call last)",
      "Cell \u001b[0;32mIn[25], line 1\u001b[0m\n\u001b[0;32m----> 1\u001b[0m ax\u001b[38;5;241m=\u001b[39msns\u001b[38;5;241m.\u001b[39mscatterplot(data\u001b[38;5;241m=\u001b[39mcustomers,\n\u001b[1;32m      2\u001b[0m               x\u001b[38;5;241m=\u001b[39m \u001b[38;5;124m'\u001b[39m\u001b[38;5;124mloudness\u001b[39m\u001b[38;5;124m'\u001b[39m,\n\u001b[1;32m      3\u001b[0m               y\u001b[38;5;241m=\u001b[39m \u001b[38;5;124m'\u001b[39m\u001b[38;5;124minstrumentalness\u001b[39m\u001b[38;5;124m'\u001b[39m,\n\u001b[1;32m      4\u001b[0m               s\u001b[38;5;241m=\u001b[39m\u001b[38;5;241m100\u001b[39m)\n",
      "\u001b[0;31mNameError\u001b[0m: name 'sns' is not defined"
     ]
    }
   ],
   "source": [
    "ax=sns.scatterplot(data=customers,\n",
    "              x= 'loudness',\n",
    "              y= 'instrumentalness',\n",
    "              s=100)"
   ]
  },
  {
   "cell_type": "code",
   "execution_count": 26,
   "id": "5093456e",
   "metadata": {},
   "outputs": [
    {
     "ename": "NameError",
     "evalue": "name 'sns' is not defined",
     "output_type": "error",
     "traceback": [
      "\u001b[0;31m---------------------------------------------------------------------------\u001b[0m",
      "\u001b[0;31mNameError\u001b[0m                                 Traceback (most recent call last)",
      "Cell \u001b[0;32mIn[26], line 1\u001b[0m\n\u001b[0;32m----> 1\u001b[0m ax\u001b[38;5;241m=\u001b[39msns\u001b[38;5;241m.\u001b[39mscatterplot(data\u001b[38;5;241m=\u001b[39mcustomers,\n\u001b[1;32m      2\u001b[0m               x\u001b[38;5;241m=\u001b[39m \u001b[38;5;124m'\u001b[39m\u001b[38;5;124mloudness\u001b[39m\u001b[38;5;124m'\u001b[39m,\n\u001b[1;32m      3\u001b[0m               y\u001b[38;5;241m=\u001b[39m \u001b[38;5;124m'\u001b[39m\u001b[38;5;124mliveness\u001b[39m\u001b[38;5;124m'\u001b[39m,\n\u001b[1;32m      4\u001b[0m               s\u001b[38;5;241m=\u001b[39m\u001b[38;5;241m100\u001b[39m)\n",
      "\u001b[0;31mNameError\u001b[0m: name 'sns' is not defined"
     ]
    }
   ],
   "source": [
    "ax=sns.scatterplot(data=customers,\n",
    "              x= 'loudness',\n",
    "              y= 'liveness',\n",
    "              s=100)"
   ]
  },
  {
   "cell_type": "code",
   "execution_count": 27,
   "id": "084c3447",
   "metadata": {},
   "outputs": [
    {
     "ename": "NameError",
     "evalue": "name 'sns' is not defined",
     "output_type": "error",
     "traceback": [
      "\u001b[0;31m---------------------------------------------------------------------------\u001b[0m",
      "\u001b[0;31mNameError\u001b[0m                                 Traceback (most recent call last)",
      "Cell \u001b[0;32mIn[27], line 1\u001b[0m\n\u001b[0;32m----> 1\u001b[0m ax\u001b[38;5;241m=\u001b[39msns\u001b[38;5;241m.\u001b[39mscatterplot(data\u001b[38;5;241m=\u001b[39mcustomers,\n\u001b[1;32m      2\u001b[0m               x\u001b[38;5;241m=\u001b[39m \u001b[38;5;124m'\u001b[39m\u001b[38;5;124mloudness\u001b[39m\u001b[38;5;124m'\u001b[39m,\n\u001b[1;32m      3\u001b[0m               y\u001b[38;5;241m=\u001b[39m \u001b[38;5;124m'\u001b[39m\u001b[38;5;124mvalence\u001b[39m\u001b[38;5;124m'\u001b[39m,\n\u001b[1;32m      4\u001b[0m               s\u001b[38;5;241m=\u001b[39m\u001b[38;5;241m100\u001b[39m)\n",
      "\u001b[0;31mNameError\u001b[0m: name 'sns' is not defined"
     ]
    }
   ],
   "source": [
    "ax=sns.scatterplot(data=customers,\n",
    "              x= 'loudness',\n",
    "              y= 'valence',\n",
    "              s=100)"
   ]
  },
  {
   "cell_type": "code",
   "execution_count": 28,
   "id": "ab5d18c3",
   "metadata": {},
   "outputs": [
    {
     "ename": "NameError",
     "evalue": "name 'sns' is not defined",
     "output_type": "error",
     "traceback": [
      "\u001b[0;31m---------------------------------------------------------------------------\u001b[0m",
      "\u001b[0;31mNameError\u001b[0m                                 Traceback (most recent call last)",
      "Cell \u001b[0;32mIn[28], line 1\u001b[0m\n\u001b[0;32m----> 1\u001b[0m ax\u001b[38;5;241m=\u001b[39msns\u001b[38;5;241m.\u001b[39mscatterplot(data\u001b[38;5;241m=\u001b[39mcustomers,\n\u001b[1;32m      2\u001b[0m               x\u001b[38;5;241m=\u001b[39m \u001b[38;5;124m'\u001b[39m\u001b[38;5;124mloudness\u001b[39m\u001b[38;5;124m'\u001b[39m,\n\u001b[1;32m      3\u001b[0m               y\u001b[38;5;241m=\u001b[39m \u001b[38;5;124m'\u001b[39m\u001b[38;5;124mtempo\u001b[39m\u001b[38;5;124m'\u001b[39m,\n\u001b[1;32m      4\u001b[0m               s\u001b[38;5;241m=\u001b[39m\u001b[38;5;241m100\u001b[39m)\n",
      "\u001b[0;31mNameError\u001b[0m: name 'sns' is not defined"
     ]
    }
   ],
   "source": [
    "ax=sns.scatterplot(data=customers,\n",
    "              x= 'loudness',\n",
    "              y= 'tempo',\n",
    "              s=100)"
   ]
  },
  {
   "cell_type": "code",
   "execution_count": 29,
   "id": "07ca387c",
   "metadata": {},
   "outputs": [
    {
     "ename": "NameError",
     "evalue": "name 'sns' is not defined",
     "output_type": "error",
     "traceback": [
      "\u001b[0;31m---------------------------------------------------------------------------\u001b[0m",
      "\u001b[0;31mNameError\u001b[0m                                 Traceback (most recent call last)",
      "Cell \u001b[0;32mIn[29], line 1\u001b[0m\n\u001b[0;32m----> 1\u001b[0m ax\u001b[38;5;241m=\u001b[39msns\u001b[38;5;241m.\u001b[39mscatterplot(data\u001b[38;5;241m=\u001b[39mcustomers,\n\u001b[1;32m      2\u001b[0m               x\u001b[38;5;241m=\u001b[39m \u001b[38;5;124m'\u001b[39m\u001b[38;5;124mspeechiness\u001b[39m\u001b[38;5;124m'\u001b[39m,\n\u001b[1;32m      3\u001b[0m               y\u001b[38;5;241m=\u001b[39m \u001b[38;5;124m'\u001b[39m\u001b[38;5;124macousticness\u001b[39m\u001b[38;5;124m'\u001b[39m,\n\u001b[1;32m      4\u001b[0m               s\u001b[38;5;241m=\u001b[39m\u001b[38;5;241m100\u001b[39m)\n",
      "\u001b[0;31mNameError\u001b[0m: name 'sns' is not defined"
     ]
    }
   ],
   "source": [
    "ax=sns.scatterplot(data=customers,\n",
    "              x= 'speechiness',\n",
    "              y= 'acousticness',\n",
    "              s=100)"
   ]
  },
  {
   "cell_type": "code",
   "execution_count": 30,
   "id": "4dcd6adc",
   "metadata": {},
   "outputs": [
    {
     "ename": "NameError",
     "evalue": "name 'sns' is not defined",
     "output_type": "error",
     "traceback": [
      "\u001b[0;31m---------------------------------------------------------------------------\u001b[0m",
      "\u001b[0;31mNameError\u001b[0m                                 Traceback (most recent call last)",
      "Cell \u001b[0;32mIn[30], line 1\u001b[0m\n\u001b[0;32m----> 1\u001b[0m ax\u001b[38;5;241m=\u001b[39msns\u001b[38;5;241m.\u001b[39mscatterplot(data\u001b[38;5;241m=\u001b[39mcustomers,\n\u001b[1;32m      2\u001b[0m               x\u001b[38;5;241m=\u001b[39m \u001b[38;5;124m'\u001b[39m\u001b[38;5;124mspeechiness\u001b[39m\u001b[38;5;124m'\u001b[39m,\n\u001b[1;32m      3\u001b[0m               y\u001b[38;5;241m=\u001b[39m \u001b[38;5;124m'\u001b[39m\u001b[38;5;124minstrumentalness\u001b[39m\u001b[38;5;124m'\u001b[39m,\n\u001b[1;32m      4\u001b[0m               s\u001b[38;5;241m=\u001b[39m\u001b[38;5;241m100\u001b[39m)\n",
      "\u001b[0;31mNameError\u001b[0m: name 'sns' is not defined"
     ]
    }
   ],
   "source": [
    "ax=sns.scatterplot(data=customers,\n",
    "              x= 'speechiness',\n",
    "              y= 'instrumentalness',\n",
    "              s=100)"
   ]
  },
  {
   "cell_type": "code",
   "execution_count": 31,
   "id": "92ad951e",
   "metadata": {},
   "outputs": [
    {
     "ename": "NameError",
     "evalue": "name 'sns' is not defined",
     "output_type": "error",
     "traceback": [
      "\u001b[0;31m---------------------------------------------------------------------------\u001b[0m",
      "\u001b[0;31mNameError\u001b[0m                                 Traceback (most recent call last)",
      "Cell \u001b[0;32mIn[31], line 1\u001b[0m\n\u001b[0;32m----> 1\u001b[0m ax\u001b[38;5;241m=\u001b[39msns\u001b[38;5;241m.\u001b[39mscatterplot(data\u001b[38;5;241m=\u001b[39mcustomers,\n\u001b[1;32m      2\u001b[0m               x\u001b[38;5;241m=\u001b[39m \u001b[38;5;124m'\u001b[39m\u001b[38;5;124mspeechiness\u001b[39m\u001b[38;5;124m'\u001b[39m,\n\u001b[1;32m      3\u001b[0m               y\u001b[38;5;241m=\u001b[39m \u001b[38;5;124m'\u001b[39m\u001b[38;5;124mliveness\u001b[39m\u001b[38;5;124m'\u001b[39m,\n\u001b[1;32m      4\u001b[0m               s\u001b[38;5;241m=\u001b[39m\u001b[38;5;241m100\u001b[39m)\n",
      "\u001b[0;31mNameError\u001b[0m: name 'sns' is not defined"
     ]
    }
   ],
   "source": [
    "ax=sns.scatterplot(data=customers,\n",
    "              x= 'speechiness',\n",
    "              y= 'liveness',\n",
    "              s=100)"
   ]
  },
  {
   "cell_type": "code",
   "execution_count": 32,
   "id": "50888cf3",
   "metadata": {},
   "outputs": [
    {
     "ename": "NameError",
     "evalue": "name 'sns' is not defined",
     "output_type": "error",
     "traceback": [
      "\u001b[0;31m---------------------------------------------------------------------------\u001b[0m",
      "\u001b[0;31mNameError\u001b[0m                                 Traceback (most recent call last)",
      "Cell \u001b[0;32mIn[32], line 1\u001b[0m\n\u001b[0;32m----> 1\u001b[0m ax\u001b[38;5;241m=\u001b[39msns\u001b[38;5;241m.\u001b[39mscatterplot(data\u001b[38;5;241m=\u001b[39mcustomers,\n\u001b[1;32m      2\u001b[0m               x\u001b[38;5;241m=\u001b[39m \u001b[38;5;124m'\u001b[39m\u001b[38;5;124mspeechiness\u001b[39m\u001b[38;5;124m'\u001b[39m,\n\u001b[1;32m      3\u001b[0m               y\u001b[38;5;241m=\u001b[39m \u001b[38;5;124m'\u001b[39m\u001b[38;5;124mvalence\u001b[39m\u001b[38;5;124m'\u001b[39m,\n\u001b[1;32m      4\u001b[0m               s\u001b[38;5;241m=\u001b[39m\u001b[38;5;241m100\u001b[39m)\n",
      "\u001b[0;31mNameError\u001b[0m: name 'sns' is not defined"
     ]
    }
   ],
   "source": [
    "ax=sns.scatterplot(data=customers,\n",
    "              x= 'speechiness',\n",
    "              y= 'valence',\n",
    "              s=100)"
   ]
  },
  {
   "cell_type": "code",
   "execution_count": 33,
   "id": "53ef3064",
   "metadata": {},
   "outputs": [
    {
     "ename": "NameError",
     "evalue": "name 'sns' is not defined",
     "output_type": "error",
     "traceback": [
      "\u001b[0;31m---------------------------------------------------------------------------\u001b[0m",
      "\u001b[0;31mNameError\u001b[0m                                 Traceback (most recent call last)",
      "Cell \u001b[0;32mIn[33], line 1\u001b[0m\n\u001b[0;32m----> 1\u001b[0m ax\u001b[38;5;241m=\u001b[39msns\u001b[38;5;241m.\u001b[39mscatterplot(data\u001b[38;5;241m=\u001b[39mcustomers,\n\u001b[1;32m      2\u001b[0m               x\u001b[38;5;241m=\u001b[39m \u001b[38;5;124m'\u001b[39m\u001b[38;5;124mspeechiness\u001b[39m\u001b[38;5;124m'\u001b[39m,\n\u001b[1;32m      3\u001b[0m               y\u001b[38;5;241m=\u001b[39m \u001b[38;5;124m'\u001b[39m\u001b[38;5;124mtempo\u001b[39m\u001b[38;5;124m'\u001b[39m,\n\u001b[1;32m      4\u001b[0m               s\u001b[38;5;241m=\u001b[39m\u001b[38;5;241m100\u001b[39m)\n",
      "\u001b[0;31mNameError\u001b[0m: name 'sns' is not defined"
     ]
    }
   ],
   "source": [
    "ax=sns.scatterplot(data=customers,\n",
    "              x= 'speechiness',\n",
    "              y= 'tempo',\n",
    "              s=100)"
   ]
  },
  {
   "cell_type": "code",
   "execution_count": 34,
   "id": "7fd7a2a9",
   "metadata": {},
   "outputs": [
    {
     "ename": "NameError",
     "evalue": "name 'sns' is not defined",
     "output_type": "error",
     "traceback": [
      "\u001b[0;31m---------------------------------------------------------------------------\u001b[0m",
      "\u001b[0;31mNameError\u001b[0m                                 Traceback (most recent call last)",
      "Cell \u001b[0;32mIn[34], line 1\u001b[0m\n\u001b[0;32m----> 1\u001b[0m ax\u001b[38;5;241m=\u001b[39msns\u001b[38;5;241m.\u001b[39mscatterplot(data\u001b[38;5;241m=\u001b[39mcustomers,\n\u001b[1;32m      2\u001b[0m               x\u001b[38;5;241m=\u001b[39m \u001b[38;5;124m'\u001b[39m\u001b[38;5;124macousticness\u001b[39m\u001b[38;5;124m'\u001b[39m,\n\u001b[1;32m      3\u001b[0m               y\u001b[38;5;241m=\u001b[39m \u001b[38;5;124m'\u001b[39m\u001b[38;5;124minstrumentalness\u001b[39m\u001b[38;5;124m'\u001b[39m,\n\u001b[1;32m      4\u001b[0m               s\u001b[38;5;241m=\u001b[39m\u001b[38;5;241m100\u001b[39m)\n",
      "\u001b[0;31mNameError\u001b[0m: name 'sns' is not defined"
     ]
    }
   ],
   "source": [
    "ax=sns.scatterplot(data=customers,\n",
    "              x= 'acousticness',\n",
    "              y= 'instrumentalness',\n",
    "              s=100)"
   ]
  },
  {
   "cell_type": "code",
   "execution_count": 35,
   "id": "cb80168f",
   "metadata": {},
   "outputs": [
    {
     "ename": "NameError",
     "evalue": "name 'sns' is not defined",
     "output_type": "error",
     "traceback": [
      "\u001b[0;31m---------------------------------------------------------------------------\u001b[0m",
      "\u001b[0;31mNameError\u001b[0m                                 Traceback (most recent call last)",
      "Cell \u001b[0;32mIn[35], line 1\u001b[0m\n\u001b[0;32m----> 1\u001b[0m ax\u001b[38;5;241m=\u001b[39msns\u001b[38;5;241m.\u001b[39mscatterplot(data\u001b[38;5;241m=\u001b[39mcustomers,\n\u001b[1;32m      2\u001b[0m               x\u001b[38;5;241m=\u001b[39m \u001b[38;5;124m'\u001b[39m\u001b[38;5;124macousticness\u001b[39m\u001b[38;5;124m'\u001b[39m,\n\u001b[1;32m      3\u001b[0m               y\u001b[38;5;241m=\u001b[39m \u001b[38;5;124m'\u001b[39m\u001b[38;5;124mliveness\u001b[39m\u001b[38;5;124m'\u001b[39m,\n\u001b[1;32m      4\u001b[0m               s\u001b[38;5;241m=\u001b[39m\u001b[38;5;241m100\u001b[39m)\n",
      "\u001b[0;31mNameError\u001b[0m: name 'sns' is not defined"
     ]
    }
   ],
   "source": [
    "ax=sns.scatterplot(data=customers,\n",
    "              x= 'acousticness',\n",
    "              y= 'liveness',\n",
    "              s=100)"
   ]
  },
  {
   "cell_type": "code",
   "execution_count": 36,
   "id": "dfd1a7d4",
   "metadata": {},
   "outputs": [
    {
     "ename": "NameError",
     "evalue": "name 'sns' is not defined",
     "output_type": "error",
     "traceback": [
      "\u001b[0;31m---------------------------------------------------------------------------\u001b[0m",
      "\u001b[0;31mNameError\u001b[0m                                 Traceback (most recent call last)",
      "Cell \u001b[0;32mIn[36], line 1\u001b[0m\n\u001b[0;32m----> 1\u001b[0m ax\u001b[38;5;241m=\u001b[39msns\u001b[38;5;241m.\u001b[39mscatterplot(data\u001b[38;5;241m=\u001b[39mcustomers,\n\u001b[1;32m      2\u001b[0m               x\u001b[38;5;241m=\u001b[39m \u001b[38;5;124m'\u001b[39m\u001b[38;5;124macousticness\u001b[39m\u001b[38;5;124m'\u001b[39m,\n\u001b[1;32m      3\u001b[0m               y\u001b[38;5;241m=\u001b[39m \u001b[38;5;124m'\u001b[39m\u001b[38;5;124mvalence\u001b[39m\u001b[38;5;124m'\u001b[39m,\n\u001b[1;32m      4\u001b[0m               s\u001b[38;5;241m=\u001b[39m\u001b[38;5;241m100\u001b[39m)\n",
      "\u001b[0;31mNameError\u001b[0m: name 'sns' is not defined"
     ]
    }
   ],
   "source": [
    "ax=sns.scatterplot(data=customers,\n",
    "              x= 'acousticness',\n",
    "              y= 'valence',\n",
    "              s=100)"
   ]
  },
  {
   "cell_type": "code",
   "execution_count": 37,
   "id": "55a4dbda",
   "metadata": {},
   "outputs": [
    {
     "ename": "NameError",
     "evalue": "name 'sns' is not defined",
     "output_type": "error",
     "traceback": [
      "\u001b[0;31m---------------------------------------------------------------------------\u001b[0m",
      "\u001b[0;31mNameError\u001b[0m                                 Traceback (most recent call last)",
      "Cell \u001b[0;32mIn[37], line 1\u001b[0m\n\u001b[0;32m----> 1\u001b[0m ax\u001b[38;5;241m=\u001b[39msns\u001b[38;5;241m.\u001b[39mscatterplot(data\u001b[38;5;241m=\u001b[39mcustomers,\n\u001b[1;32m      2\u001b[0m               x\u001b[38;5;241m=\u001b[39m \u001b[38;5;124m'\u001b[39m\u001b[38;5;124macousticness\u001b[39m\u001b[38;5;124m'\u001b[39m,\n\u001b[1;32m      3\u001b[0m               y\u001b[38;5;241m=\u001b[39m \u001b[38;5;124m'\u001b[39m\u001b[38;5;124mtempo\u001b[39m\u001b[38;5;124m'\u001b[39m,\n\u001b[1;32m      4\u001b[0m               s\u001b[38;5;241m=\u001b[39m\u001b[38;5;241m100\u001b[39m)\n",
      "\u001b[0;31mNameError\u001b[0m: name 'sns' is not defined"
     ]
    }
   ],
   "source": [
    "ax=sns.scatterplot(data=customers,\n",
    "              x= 'acousticness',\n",
    "              y= 'tempo',\n",
    "              s=100)"
   ]
  },
  {
   "cell_type": "code",
   "execution_count": 38,
   "id": "3b009f04",
   "metadata": {},
   "outputs": [
    {
     "ename": "NameError",
     "evalue": "name 'sns' is not defined",
     "output_type": "error",
     "traceback": [
      "\u001b[0;31m---------------------------------------------------------------------------\u001b[0m",
      "\u001b[0;31mNameError\u001b[0m                                 Traceback (most recent call last)",
      "Cell \u001b[0;32mIn[38], line 1\u001b[0m\n\u001b[0;32m----> 1\u001b[0m ax\u001b[38;5;241m=\u001b[39msns\u001b[38;5;241m.\u001b[39mscatterplot(data\u001b[38;5;241m=\u001b[39mcustomers,\n\u001b[1;32m      2\u001b[0m               x\u001b[38;5;241m=\u001b[39m \u001b[38;5;124m'\u001b[39m\u001b[38;5;124minstrumentalness\u001b[39m\u001b[38;5;124m'\u001b[39m,\n\u001b[1;32m      3\u001b[0m               y\u001b[38;5;241m=\u001b[39m \u001b[38;5;124m'\u001b[39m\u001b[38;5;124mliveness\u001b[39m\u001b[38;5;124m'\u001b[39m,\n\u001b[1;32m      4\u001b[0m               s\u001b[38;5;241m=\u001b[39m\u001b[38;5;241m100\u001b[39m)\n",
      "\u001b[0;31mNameError\u001b[0m: name 'sns' is not defined"
     ]
    }
   ],
   "source": [
    "ax=sns.scatterplot(data=customers,\n",
    "              x= 'instrumentalness',\n",
    "              y= 'liveness',\n",
    "              s=100)"
   ]
  },
  {
   "cell_type": "code",
   "execution_count": 39,
   "id": "160ace13",
   "metadata": {},
   "outputs": [
    {
     "ename": "NameError",
     "evalue": "name 'sns' is not defined",
     "output_type": "error",
     "traceback": [
      "\u001b[0;31m---------------------------------------------------------------------------\u001b[0m",
      "\u001b[0;31mNameError\u001b[0m                                 Traceback (most recent call last)",
      "Cell \u001b[0;32mIn[39], line 1\u001b[0m\n\u001b[0;32m----> 1\u001b[0m ax\u001b[38;5;241m=\u001b[39msns\u001b[38;5;241m.\u001b[39mscatterplot(data\u001b[38;5;241m=\u001b[39mcustomers,\n\u001b[1;32m      2\u001b[0m               x\u001b[38;5;241m=\u001b[39m \u001b[38;5;124m'\u001b[39m\u001b[38;5;124minstrumentalness\u001b[39m\u001b[38;5;124m'\u001b[39m,\n\u001b[1;32m      3\u001b[0m               y\u001b[38;5;241m=\u001b[39m \u001b[38;5;124m'\u001b[39m\u001b[38;5;124mvalence\u001b[39m\u001b[38;5;124m'\u001b[39m,\n\u001b[1;32m      4\u001b[0m               s\u001b[38;5;241m=\u001b[39m\u001b[38;5;241m100\u001b[39m)\n",
      "\u001b[0;31mNameError\u001b[0m: name 'sns' is not defined"
     ]
    }
   ],
   "source": [
    "ax=sns.scatterplot(data=customers,\n",
    "              x= 'instrumentalness',\n",
    "              y= 'valence',\n",
    "              s=100)"
   ]
  },
  {
   "cell_type": "code",
   "execution_count": 40,
   "id": "80d2433b",
   "metadata": {},
   "outputs": [
    {
     "ename": "NameError",
     "evalue": "name 'sns' is not defined",
     "output_type": "error",
     "traceback": [
      "\u001b[0;31m---------------------------------------------------------------------------\u001b[0m",
      "\u001b[0;31mNameError\u001b[0m                                 Traceback (most recent call last)",
      "Cell \u001b[0;32mIn[40], line 1\u001b[0m\n\u001b[0;32m----> 1\u001b[0m ax\u001b[38;5;241m=\u001b[39msns\u001b[38;5;241m.\u001b[39mscatterplot(data\u001b[38;5;241m=\u001b[39mcustomers,\n\u001b[1;32m      2\u001b[0m               x\u001b[38;5;241m=\u001b[39m \u001b[38;5;124m'\u001b[39m\u001b[38;5;124minstrumentalness\u001b[39m\u001b[38;5;124m'\u001b[39m,\n\u001b[1;32m      3\u001b[0m               y\u001b[38;5;241m=\u001b[39m \u001b[38;5;124m'\u001b[39m\u001b[38;5;124mtempo\u001b[39m\u001b[38;5;124m'\u001b[39m,\n\u001b[1;32m      4\u001b[0m               s\u001b[38;5;241m=\u001b[39m\u001b[38;5;241m100\u001b[39m)\n",
      "\u001b[0;31mNameError\u001b[0m: name 'sns' is not defined"
     ]
    }
   ],
   "source": [
    "ax=sns.scatterplot(data=customers,\n",
    "              x= 'instrumentalness',\n",
    "              y= 'tempo',\n",
    "              s=100)"
   ]
  },
  {
   "cell_type": "code",
   "execution_count": 41,
   "id": "b8d3d809",
   "metadata": {},
   "outputs": [
    {
     "ename": "NameError",
     "evalue": "name 'sns' is not defined",
     "output_type": "error",
     "traceback": [
      "\u001b[0;31m---------------------------------------------------------------------------\u001b[0m",
      "\u001b[0;31mNameError\u001b[0m                                 Traceback (most recent call last)",
      "Cell \u001b[0;32mIn[41], line 1\u001b[0m\n\u001b[0;32m----> 1\u001b[0m ax\u001b[38;5;241m=\u001b[39msns\u001b[38;5;241m.\u001b[39mscatterplot(data\u001b[38;5;241m=\u001b[39mcustomers,\n\u001b[1;32m      2\u001b[0m               x\u001b[38;5;241m=\u001b[39m \u001b[38;5;124m'\u001b[39m\u001b[38;5;124mliveness\u001b[39m\u001b[38;5;124m'\u001b[39m,\n\u001b[1;32m      3\u001b[0m               y\u001b[38;5;241m=\u001b[39m \u001b[38;5;124m'\u001b[39m\u001b[38;5;124mvalence\u001b[39m\u001b[38;5;124m'\u001b[39m,\n\u001b[1;32m      4\u001b[0m               s\u001b[38;5;241m=\u001b[39m\u001b[38;5;241m100\u001b[39m)\n",
      "\u001b[0;31mNameError\u001b[0m: name 'sns' is not defined"
     ]
    }
   ],
   "source": [
    "ax=sns.scatterplot(data=customers,\n",
    "              x= 'liveness',\n",
    "              y= 'valence',\n",
    "              s=100)"
   ]
  },
  {
   "cell_type": "code",
   "execution_count": 42,
   "id": "8ec624db",
   "metadata": {},
   "outputs": [
    {
     "ename": "NameError",
     "evalue": "name 'sns' is not defined",
     "output_type": "error",
     "traceback": [
      "\u001b[0;31m---------------------------------------------------------------------------\u001b[0m",
      "\u001b[0;31mNameError\u001b[0m                                 Traceback (most recent call last)",
      "Cell \u001b[0;32mIn[42], line 1\u001b[0m\n\u001b[0;32m----> 1\u001b[0m ax\u001b[38;5;241m=\u001b[39msns\u001b[38;5;241m.\u001b[39mscatterplot(data\u001b[38;5;241m=\u001b[39mcustomers,\n\u001b[1;32m      2\u001b[0m               x\u001b[38;5;241m=\u001b[39m \u001b[38;5;124m'\u001b[39m\u001b[38;5;124mliveness\u001b[39m\u001b[38;5;124m'\u001b[39m,\n\u001b[1;32m      3\u001b[0m               y\u001b[38;5;241m=\u001b[39m \u001b[38;5;124m'\u001b[39m\u001b[38;5;124mtempo\u001b[39m\u001b[38;5;124m'\u001b[39m,\n\u001b[1;32m      4\u001b[0m               s\u001b[38;5;241m=\u001b[39m\u001b[38;5;241m100\u001b[39m)\n",
      "\u001b[0;31mNameError\u001b[0m: name 'sns' is not defined"
     ]
    }
   ],
   "source": [
    "ax=sns.scatterplot(data=customers,\n",
    "              x= 'liveness',\n",
    "              y= 'tempo',\n",
    "              s=100)"
   ]
  },
  {
   "cell_type": "code",
   "execution_count": 43,
   "id": "f32bf13c",
   "metadata": {},
   "outputs": [
    {
     "ename": "NameError",
     "evalue": "name 'sns' is not defined",
     "output_type": "error",
     "traceback": [
      "\u001b[0;31m---------------------------------------------------------------------------\u001b[0m",
      "\u001b[0;31mNameError\u001b[0m                                 Traceback (most recent call last)",
      "Cell \u001b[0;32mIn[43], line 1\u001b[0m\n\u001b[0;32m----> 1\u001b[0m ax\u001b[38;5;241m=\u001b[39msns\u001b[38;5;241m.\u001b[39mscatterplot(data\u001b[38;5;241m=\u001b[39mcustomers,\n\u001b[1;32m      2\u001b[0m               x\u001b[38;5;241m=\u001b[39m \u001b[38;5;124m'\u001b[39m\u001b[38;5;124mvalence\u001b[39m\u001b[38;5;124m'\u001b[39m,\n\u001b[1;32m      3\u001b[0m               y\u001b[38;5;241m=\u001b[39m \u001b[38;5;124m'\u001b[39m\u001b[38;5;124mtempo\u001b[39m\u001b[38;5;124m'\u001b[39m,\n\u001b[1;32m      4\u001b[0m               s\u001b[38;5;241m=\u001b[39m\u001b[38;5;241m100\u001b[39m)\n",
      "\u001b[0;31mNameError\u001b[0m: name 'sns' is not defined"
     ]
    }
   ],
   "source": [
    "ax=sns.scatterplot(data=customers,\n",
    "              x= 'valence',\n",
    "              y= 'tempo',\n",
    "              s=100)"
   ]
  },
  {
   "cell_type": "code",
   "execution_count": null,
   "id": "c701d30d",
   "metadata": {},
   "outputs": [],
   "source": []
  },
  {
   "cell_type": "code",
   "execution_count": null,
   "id": "15ac13fb",
   "metadata": {},
   "outputs": [],
   "source": []
  },
  {
   "cell_type": "code",
   "execution_count": null,
   "id": "f52e45e2",
   "metadata": {},
   "outputs": [],
   "source": []
  },
  {
   "cell_type": "code",
   "execution_count": null,
   "id": "a672d54e",
   "metadata": {},
   "outputs": [],
   "source": []
  },
  {
   "cell_type": "code",
   "execution_count": null,
   "id": "995a80c1",
   "metadata": {},
   "outputs": [],
   "source": []
  },
  {
   "cell_type": "code",
   "execution_count": null,
   "id": "d71c7f97",
   "metadata": {},
   "outputs": [],
   "source": []
  }
 ],
 "metadata": {
  "kernelspec": {
   "display_name": "Python 3 (ipykernel)",
   "language": "python",
   "name": "python3"
  },
  "language_info": {
   "codemirror_mode": {
    "name": "ipython",
    "version": 3
   },
   "file_extension": ".py",
   "mimetype": "text/x-python",
   "name": "python",
   "nbconvert_exporter": "python",
   "pygments_lexer": "ipython3",
   "version": "3.11.5"
  }
 },
 "nbformat": 4,
 "nbformat_minor": 5
}
